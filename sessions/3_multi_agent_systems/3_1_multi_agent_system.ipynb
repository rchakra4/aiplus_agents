{
  "cells": [
    {
      "cell_type": "markdown",
      "metadata": {},
      "source": [
        "# Multi Agent System\n",
        "\n",
        "This notebook demonstrates how to build a multi-agent financial research and analysis system with RAG, web search, and code generation.\n",
        "\n",
        "## Key Components\n",
        "\n",
        "1. **Setup and Configuration**\n",
        "   - Installation of required packages (langchain-community, langchain-openai, chromadb, e2b)\n",
        "   - Configuration of API keys (OpenAI, Tavily, E2B, Langchain/Langsmith)\n",
        "   - Import of necessary libraries and components\n",
        "\n",
        "2. **Build RAG Index**\n",
        "   - Building a vector index from PDF documents\n",
        "   - Setting up document retrieval and embedding systems\n",
        "   - Implementation of document splitting and processing\n",
        "\n",
        "3. **Intelligent Routing**\n",
        "   - Question router for directing queries to appropriate data sources (RAG for internal documents, web search for external information)\n",
        "   - Retrieval grader for assessing document relevance\n",
        "   - Hallucination detection and answer validation (and routing to web search as a fallback)\n",
        "\n",
        "4. **Code Interpretation and Visualization**\n",
        "   - Python code interpreter integration to generate output financial analysis visualizations in a sandboxed environment\n",
        "   - Graph state management and workflow definition\n",
        "   - Visualization tools for data representation\n",
        "\n",
        "5. **Graph-Based Workflow**\n",
        "   - Implementation of state-based graph workflow\n",
        "   - Integration of web search and vector store retrieval\n",
        "   - Conditional routing based on document source (RAG or web search) and answer relevance (hallucination detection and answer grading)\n",
        "\n",
        "6. **Interface**\n",
        "   - Test the system\n",
        "   - Visual graph representation using IPython display\n",
        "   - Gradio-based interactive interface\n",
        "\n",
        "This notebook provides a comprehensive example of building a multi-agent system that can handle financial research and analysis tasks with quality controls for accuracy and reliability."
      ]
    },
    {
      "cell_type": "markdown",
      "metadata": {},
      "source": [
        "## Setup and Configuration"
      ]
    },
    {
      "cell_type": "code",
      "execution_count": 15,
      "metadata": {
        "colab": {
          "base_uri": "https://localhost:8080/"
        },
        "collapsed": true,
        "id": "7h3OUsU2j0vI",
        "outputId": "84682ceb-ca6b-4858-c014-7ee27b894f2e"
      },
      "outputs": [
        {
          "name": "stdout",
          "output_type": "stream",
          "text": [
            "Requirement already satisfied: langchain-community==0.3.1 in /usr/local/lib/python3.10/dist-packages (0.3.1)\n",
            "Requirement already satisfied: PyYAML>=5.3 in /usr/local/lib/python3.10/dist-packages (from langchain-community==0.3.1) (6.0.2)\n",
            "Requirement already satisfied: SQLAlchemy<3,>=1.4 in /usr/local/lib/python3.10/dist-packages (from langchain-community==0.3.1) (2.0.36)\n",
            "Requirement already satisfied: aiohttp<4.0.0,>=3.8.3 in /usr/local/lib/python3.10/dist-packages (from langchain-community==0.3.1) (3.10.10)\n",
            "Requirement already satisfied: dataclasses-json<0.7,>=0.5.7 in /usr/local/lib/python3.10/dist-packages (from langchain-community==0.3.1) (0.6.7)\n",
            "Requirement already satisfied: langchain<0.4.0,>=0.3.1 in /usr/local/lib/python3.10/dist-packages (from langchain-community==0.3.1) (0.3.4)\n",
            "Requirement already satisfied: langchain-core<0.4.0,>=0.3.6 in /usr/local/lib/python3.10/dist-packages (from langchain-community==0.3.1) (0.3.13)\n",
            "Requirement already satisfied: langsmith<0.2.0,>=0.1.125 in /usr/local/lib/python3.10/dist-packages (from langchain-community==0.3.1) (0.1.137)\n",
            "Requirement already satisfied: numpy<2,>=1 in /usr/local/lib/python3.10/dist-packages (from langchain-community==0.3.1) (1.26.4)\n",
            "Requirement already satisfied: pydantic-settings<3.0.0,>=2.4.0 in /usr/local/lib/python3.10/dist-packages (from langchain-community==0.3.1) (2.6.1)\n",
            "Requirement already satisfied: requests<3,>=2 in /usr/local/lib/python3.10/dist-packages (from langchain-community==0.3.1) (2.32.3)\n",
            "Requirement already satisfied: tenacity!=8.4.0,<9.0.0,>=8.1.0 in /usr/local/lib/python3.10/dist-packages (from langchain-community==0.3.1) (8.5.0)\n",
            "Requirement already satisfied: aiohappyeyeballs>=2.3.0 in /usr/local/lib/python3.10/dist-packages (from aiohttp<4.0.0,>=3.8.3->langchain-community==0.3.1) (2.4.3)\n",
            "Requirement already satisfied: aiosignal>=1.1.2 in /usr/local/lib/python3.10/dist-packages (from aiohttp<4.0.0,>=3.8.3->langchain-community==0.3.1) (1.3.1)\n",
            "Requirement already satisfied: attrs>=17.3.0 in /usr/local/lib/python3.10/dist-packages (from aiohttp<4.0.0,>=3.8.3->langchain-community==0.3.1) (23.2.0)\n",
            "Requirement already satisfied: frozenlist>=1.1.1 in /usr/local/lib/python3.10/dist-packages (from aiohttp<4.0.0,>=3.8.3->langchain-community==0.3.1) (1.5.0)\n",
            "Requirement already satisfied: multidict<7.0,>=4.5 in /usr/local/lib/python3.10/dist-packages (from aiohttp<4.0.0,>=3.8.3->langchain-community==0.3.1) (6.1.0)\n",
            "Requirement already satisfied: yarl<2.0,>=1.12.0 in /usr/local/lib/python3.10/dist-packages (from aiohttp<4.0.0,>=3.8.3->langchain-community==0.3.1) (1.17.0)\n",
            "Requirement already satisfied: async-timeout<5.0,>=4.0 in /usr/local/lib/python3.10/dist-packages (from aiohttp<4.0.0,>=3.8.3->langchain-community==0.3.1) (4.0.3)\n",
            "Requirement already satisfied: marshmallow<4.0.0,>=3.18.0 in /usr/local/lib/python3.10/dist-packages (from dataclasses-json<0.7,>=0.5.7->langchain-community==0.3.1) (3.23.1)\n",
            "Requirement already satisfied: typing-inspect<1,>=0.4.0 in /usr/local/lib/python3.10/dist-packages (from dataclasses-json<0.7,>=0.5.7->langchain-community==0.3.1) (0.9.0)\n",
            "Requirement already satisfied: langchain-text-splitters<0.4.0,>=0.3.0 in /usr/local/lib/python3.10/dist-packages (from langchain<0.4.0,>=0.3.1->langchain-community==0.3.1) (0.3.0)\n",
            "Requirement already satisfied: pydantic<3.0.0,>=2.7.4 in /usr/local/lib/python3.10/dist-packages (from langchain<0.4.0,>=0.3.1->langchain-community==0.3.1) (2.9.2)\n",
            "Requirement already satisfied: jsonpatch<2.0,>=1.33 in /usr/local/lib/python3.10/dist-packages (from langchain-core<0.4.0,>=0.3.6->langchain-community==0.3.1) (1.33)\n",
            "Requirement already satisfied: packaging<25,>=23.2 in /usr/local/lib/python3.10/dist-packages (from langchain-core<0.4.0,>=0.3.6->langchain-community==0.3.1) (24.1)\n",
            "Requirement already satisfied: typing-extensions>=4.7 in /usr/local/lib/python3.10/dist-packages (from langchain-core<0.4.0,>=0.3.6->langchain-community==0.3.1) (4.12.2)\n",
            "Requirement already satisfied: httpx<1,>=0.23.0 in /usr/local/lib/python3.10/dist-packages (from langsmith<0.2.0,>=0.1.125->langchain-community==0.3.1) (0.27.2)\n",
            "Requirement already satisfied: orjson<4.0.0,>=3.9.14 in /usr/local/lib/python3.10/dist-packages (from langsmith<0.2.0,>=0.1.125->langchain-community==0.3.1) (3.10.10)\n",
            "Requirement already satisfied: requests-toolbelt<2.0.0,>=1.0.0 in /usr/local/lib/python3.10/dist-packages (from langsmith<0.2.0,>=0.1.125->langchain-community==0.3.1) (1.0.0)\n",
            "Requirement already satisfied: python-dotenv>=0.21.0 in /usr/local/lib/python3.10/dist-packages (from pydantic-settings<3.0.0,>=2.4.0->langchain-community==0.3.1) (1.0.1)\n",
            "Requirement already satisfied: charset-normalizer<4,>=2 in /usr/local/lib/python3.10/dist-packages (from requests<3,>=2->langchain-community==0.3.1) (3.4.0)\n",
            "Requirement already satisfied: idna<4,>=2.5 in /usr/local/lib/python3.10/dist-packages (from requests<3,>=2->langchain-community==0.3.1) (3.10)\n",
            "Requirement already satisfied: urllib3<3,>=1.21.1 in /usr/local/lib/python3.10/dist-packages (from requests<3,>=2->langchain-community==0.3.1) (2.2.3)\n",
            "Requirement already satisfied: certifi>=2017.4.17 in /usr/local/lib/python3.10/dist-packages (from requests<3,>=2->langchain-community==0.3.1) (2024.8.30)\n",
            "Requirement already satisfied: greenlet!=0.4.17 in /usr/local/lib/python3.10/dist-packages (from SQLAlchemy<3,>=1.4->langchain-community==0.3.1) (3.1.1)\n",
            "Requirement already satisfied: anyio in /usr/local/lib/python3.10/dist-packages (from httpx<1,>=0.23.0->langsmith<0.2.0,>=0.1.125->langchain-community==0.3.1) (3.7.1)\n",
            "Requirement already satisfied: httpcore==1.* in /usr/local/lib/python3.10/dist-packages (from httpx<1,>=0.23.0->langsmith<0.2.0,>=0.1.125->langchain-community==0.3.1) (1.0.6)\n",
            "Requirement already satisfied: sniffio in /usr/local/lib/python3.10/dist-packages (from httpx<1,>=0.23.0->langsmith<0.2.0,>=0.1.125->langchain-community==0.3.1) (1.3.1)\n",
            "Requirement already satisfied: h11<0.15,>=0.13 in /usr/local/lib/python3.10/dist-packages (from httpcore==1.*->httpx<1,>=0.23.0->langsmith<0.2.0,>=0.1.125->langchain-community==0.3.1) (0.14.0)\n",
            "Requirement already satisfied: jsonpointer>=1.9 in /usr/local/lib/python3.10/dist-packages (from jsonpatch<2.0,>=1.33->langchain-core<0.4.0,>=0.3.6->langchain-community==0.3.1) (3.0.0)\n",
            "Requirement already satisfied: annotated-types>=0.6.0 in /usr/local/lib/python3.10/dist-packages (from pydantic<3.0.0,>=2.7.4->langchain<0.4.0,>=0.3.1->langchain-community==0.3.1) (0.7.0)\n",
            "Requirement already satisfied: pydantic-core==2.23.4 in /usr/local/lib/python3.10/dist-packages (from pydantic<3.0.0,>=2.7.4->langchain<0.4.0,>=0.3.1->langchain-community==0.3.1) (2.23.4)\n",
            "Requirement already satisfied: mypy-extensions>=0.3.0 in /usr/local/lib/python3.10/dist-packages (from typing-inspect<1,>=0.4.0->dataclasses-json<0.7,>=0.5.7->langchain-community==0.3.1) (1.0.0)\n",
            "Requirement already satisfied: propcache>=0.2.0 in /usr/local/lib/python3.10/dist-packages (from yarl<2.0,>=1.12.0->aiohttp<4.0.0,>=3.8.3->langchain-community==0.3.1) (0.2.0)\n",
            "Requirement already satisfied: exceptiongroup in /usr/local/lib/python3.10/dist-packages (from anyio->httpx<1,>=0.23.0->langsmith<0.2.0,>=0.1.125->langchain-community==0.3.1) (1.2.2)\n",
            "Requirement already satisfied: langchain-openai==0.2.0 in /usr/local/lib/python3.10/dist-packages (0.2.0)\n",
            "Requirement already satisfied: langchain-core<0.4,>=0.3 in /usr/local/lib/python3.10/dist-packages (from langchain-openai==0.2.0) (0.3.13)\n",
            "Requirement already satisfied: openai<2.0.0,>=1.40.0 in /usr/local/lib/python3.10/dist-packages (from langchain-openai==0.2.0) (1.52.2)\n",
            "Requirement already satisfied: tiktoken<1,>=0.7 in /usr/local/lib/python3.10/dist-packages (from langchain-openai==0.2.0) (0.8.0)\n",
            "Requirement already satisfied: PyYAML>=5.3 in /usr/local/lib/python3.10/dist-packages (from langchain-core<0.4,>=0.3->langchain-openai==0.2.0) (6.0.2)\n",
            "Requirement already satisfied: jsonpatch<2.0,>=1.33 in /usr/local/lib/python3.10/dist-packages (from langchain-core<0.4,>=0.3->langchain-openai==0.2.0) (1.33)\n",
            "Requirement already satisfied: langsmith<0.2.0,>=0.1.125 in /usr/local/lib/python3.10/dist-packages (from langchain-core<0.4,>=0.3->langchain-openai==0.2.0) (0.1.137)\n",
            "Requirement already satisfied: packaging<25,>=23.2 in /usr/local/lib/python3.10/dist-packages (from langchain-core<0.4,>=0.3->langchain-openai==0.2.0) (24.1)\n",
            "Requirement already satisfied: pydantic<3.0.0,>=2.5.2 in /usr/local/lib/python3.10/dist-packages (from langchain-core<0.4,>=0.3->langchain-openai==0.2.0) (2.9.2)\n",
            "Requirement already satisfied: tenacity!=8.4.0,<10.0.0,>=8.1.0 in /usr/local/lib/python3.10/dist-packages (from langchain-core<0.4,>=0.3->langchain-openai==0.2.0) (8.5.0)\n",
            "Requirement already satisfied: typing-extensions>=4.7 in /usr/local/lib/python3.10/dist-packages (from langchain-core<0.4,>=0.3->langchain-openai==0.2.0) (4.12.2)\n",
            "Requirement already satisfied: anyio<5,>=3.5.0 in /usr/local/lib/python3.10/dist-packages (from openai<2.0.0,>=1.40.0->langchain-openai==0.2.0) (3.7.1)\n",
            "Requirement already satisfied: distro<2,>=1.7.0 in /usr/local/lib/python3.10/dist-packages (from openai<2.0.0,>=1.40.0->langchain-openai==0.2.0) (1.9.0)\n",
            "Requirement already satisfied: httpx<1,>=0.23.0 in /usr/local/lib/python3.10/dist-packages (from openai<2.0.0,>=1.40.0->langchain-openai==0.2.0) (0.27.2)\n",
            "Requirement already satisfied: jiter<1,>=0.4.0 in /usr/local/lib/python3.10/dist-packages (from openai<2.0.0,>=1.40.0->langchain-openai==0.2.0) (0.6.1)\n",
            "Requirement already satisfied: sniffio in /usr/local/lib/python3.10/dist-packages (from openai<2.0.0,>=1.40.0->langchain-openai==0.2.0) (1.3.1)\n",
            "Requirement already satisfied: tqdm>4 in /usr/local/lib/python3.10/dist-packages (from openai<2.0.0,>=1.40.0->langchain-openai==0.2.0) (4.66.6)\n",
            "Requirement already satisfied: regex>=2022.1.18 in /usr/local/lib/python3.10/dist-packages (from tiktoken<1,>=0.7->langchain-openai==0.2.0) (2024.9.11)\n",
            "Requirement already satisfied: requests>=2.26.0 in /usr/local/lib/python3.10/dist-packages (from tiktoken<1,>=0.7->langchain-openai==0.2.0) (2.32.3)\n",
            "Requirement already satisfied: idna>=2.8 in /usr/local/lib/python3.10/dist-packages (from anyio<5,>=3.5.0->openai<2.0.0,>=1.40.0->langchain-openai==0.2.0) (3.10)\n",
            "Requirement already satisfied: exceptiongroup in /usr/local/lib/python3.10/dist-packages (from anyio<5,>=3.5.0->openai<2.0.0,>=1.40.0->langchain-openai==0.2.0) (1.2.2)\n",
            "Requirement already satisfied: certifi in /usr/local/lib/python3.10/dist-packages (from httpx<1,>=0.23.0->openai<2.0.0,>=1.40.0->langchain-openai==0.2.0) (2024.8.30)\n",
            "Requirement already satisfied: httpcore==1.* in /usr/local/lib/python3.10/dist-packages (from httpx<1,>=0.23.0->openai<2.0.0,>=1.40.0->langchain-openai==0.2.0) (1.0.6)\n",
            "Requirement already satisfied: h11<0.15,>=0.13 in /usr/local/lib/python3.10/dist-packages (from httpcore==1.*->httpx<1,>=0.23.0->openai<2.0.0,>=1.40.0->langchain-openai==0.2.0) (0.14.0)\n",
            "Requirement already satisfied: jsonpointer>=1.9 in /usr/local/lib/python3.10/dist-packages (from jsonpatch<2.0,>=1.33->langchain-core<0.4,>=0.3->langchain-openai==0.2.0) (3.0.0)\n",
            "Requirement already satisfied: orjson<4.0.0,>=3.9.14 in /usr/local/lib/python3.10/dist-packages (from langsmith<0.2.0,>=0.1.125->langchain-core<0.4,>=0.3->langchain-openai==0.2.0) (3.10.10)\n",
            "Requirement already satisfied: requests-toolbelt<2.0.0,>=1.0.0 in /usr/local/lib/python3.10/dist-packages (from langsmith<0.2.0,>=0.1.125->langchain-core<0.4,>=0.3->langchain-openai==0.2.0) (1.0.0)\n",
            "Requirement already satisfied: annotated-types>=0.6.0 in /usr/local/lib/python3.10/dist-packages (from pydantic<3.0.0,>=2.5.2->langchain-core<0.4,>=0.3->langchain-openai==0.2.0) (0.7.0)\n",
            "Requirement already satisfied: pydantic-core==2.23.4 in /usr/local/lib/python3.10/dist-packages (from pydantic<3.0.0,>=2.5.2->langchain-core<0.4,>=0.3->langchain-openai==0.2.0) (2.23.4)\n",
            "Requirement already satisfied: charset-normalizer<4,>=2 in /usr/local/lib/python3.10/dist-packages (from requests>=2.26.0->tiktoken<1,>=0.7->langchain-openai==0.2.0) (3.4.0)\n",
            "Requirement already satisfied: urllib3<3,>=1.21.1 in /usr/local/lib/python3.10/dist-packages (from requests>=2.26.0->tiktoken<1,>=0.7->langchain-openai==0.2.0) (2.2.3)\n",
            "Requirement already satisfied: chromadb==0.5.11 in /usr/local/lib/python3.10/dist-packages (0.5.11)\n",
            "Requirement already satisfied: build>=1.0.3 in /usr/local/lib/python3.10/dist-packages (from chromadb==0.5.11) (1.2.2.post1)\n",
            "Requirement already satisfied: pydantic>=1.9 in /usr/local/lib/python3.10/dist-packages (from chromadb==0.5.11) (2.9.2)\n",
            "Requirement already satisfied: chroma-hnswlib==0.7.6 in /usr/local/lib/python3.10/dist-packages (from chromadb==0.5.11) (0.7.6)\n",
            "Requirement already satisfied: fastapi>=0.95.2 in /usr/local/lib/python3.10/dist-packages (from chromadb==0.5.11) (0.115.4)\n",
            "Requirement already satisfied: uvicorn>=0.18.3 in /usr/local/lib/python3.10/dist-packages (from uvicorn[standard]>=0.18.3->chromadb==0.5.11) (0.32.0)\n",
            "Requirement already satisfied: numpy>=1.22.5 in /usr/local/lib/python3.10/dist-packages (from chromadb==0.5.11) (1.26.4)\n",
            "Requirement already satisfied: posthog>=2.4.0 in /usr/local/lib/python3.10/dist-packages (from chromadb==0.5.11) (3.7.0)\n",
            "Requirement already satisfied: typing-extensions>=4.5.0 in /usr/local/lib/python3.10/dist-packages (from chromadb==0.5.11) (4.12.2)\n",
            "Requirement already satisfied: onnxruntime>=1.14.1 in /usr/local/lib/python3.10/dist-packages (from chromadb==0.5.11) (1.20.0)\n",
            "Requirement already satisfied: opentelemetry-api>=1.2.0 in /usr/local/lib/python3.10/dist-packages (from chromadb==0.5.11) (1.27.0)\n",
            "Requirement already satisfied: opentelemetry-exporter-otlp-proto-grpc>=1.2.0 in /usr/local/lib/python3.10/dist-packages (from chromadb==0.5.11) (1.27.0)\n",
            "Requirement already satisfied: opentelemetry-instrumentation-fastapi>=0.41b0 in /usr/local/lib/python3.10/dist-packages (from chromadb==0.5.11) (0.48b0)\n",
            "Requirement already satisfied: opentelemetry-sdk>=1.2.0 in /usr/local/lib/python3.10/dist-packages (from chromadb==0.5.11) (1.27.0)\n",
            "Requirement already satisfied: tokenizers>=0.13.2 in /usr/local/lib/python3.10/dist-packages (from chromadb==0.5.11) (0.19.1)\n",
            "Requirement already satisfied: pypika>=0.48.9 in /usr/local/lib/python3.10/dist-packages (from chromadb==0.5.11) (0.48.9)\n",
            "Requirement already satisfied: tqdm>=4.65.0 in /usr/local/lib/python3.10/dist-packages (from chromadb==0.5.11) (4.66.6)\n",
            "Requirement already satisfied: overrides>=7.3.1 in /usr/local/lib/python3.10/dist-packages (from chromadb==0.5.11) (7.7.0)\n",
            "Requirement already satisfied: importlib-resources in /usr/local/lib/python3.10/dist-packages (from chromadb==0.5.11) (6.4.5)\n",
            "Requirement already satisfied: grpcio>=1.58.0 in /usr/local/lib/python3.10/dist-packages (from chromadb==0.5.11) (1.64.1)\n",
            "Requirement already satisfied: bcrypt>=4.0.1 in /usr/local/lib/python3.10/dist-packages (from chromadb==0.5.11) (4.2.0)\n",
            "Requirement already satisfied: typer>=0.9.0 in /usr/local/lib/python3.10/dist-packages (from chromadb==0.5.11) (0.12.5)\n",
            "Requirement already satisfied: kubernetes>=28.1.0 in /usr/local/lib/python3.10/dist-packages (from chromadb==0.5.11) (31.0.0)\n",
            "Requirement already satisfied: tenacity>=8.2.3 in /usr/local/lib/python3.10/dist-packages (from chromadb==0.5.11) (8.5.0)\n",
            "Requirement already satisfied: PyYAML>=6.0.0 in /usr/local/lib/python3.10/dist-packages (from chromadb==0.5.11) (6.0.2)\n",
            "Requirement already satisfied: mmh3>=4.0.1 in /usr/local/lib/python3.10/dist-packages (from chromadb==0.5.11) (5.0.1)\n",
            "Requirement already satisfied: orjson>=3.9.12 in /usr/local/lib/python3.10/dist-packages (from chromadb==0.5.11) (3.10.10)\n",
            "Requirement already satisfied: httpx>=0.27.0 in /usr/local/lib/python3.10/dist-packages (from chromadb==0.5.11) (0.27.2)\n",
            "Requirement already satisfied: rich>=10.11.0 in /usr/local/lib/python3.10/dist-packages (from chromadb==0.5.11) (13.9.3)\n",
            "Requirement already satisfied: packaging>=19.1 in /usr/local/lib/python3.10/dist-packages (from build>=1.0.3->chromadb==0.5.11) (24.1)\n",
            "Requirement already satisfied: pyproject_hooks in /usr/local/lib/python3.10/dist-packages (from build>=1.0.3->chromadb==0.5.11) (1.2.0)\n",
            "Requirement already satisfied: tomli>=1.1.0 in /usr/local/lib/python3.10/dist-packages (from build>=1.0.3->chromadb==0.5.11) (2.0.2)\n",
            "Requirement already satisfied: starlette<0.42.0,>=0.40.0 in /usr/local/lib/python3.10/dist-packages (from fastapi>=0.95.2->chromadb==0.5.11) (0.41.2)\n",
            "Requirement already satisfied: anyio in /usr/local/lib/python3.10/dist-packages (from httpx>=0.27.0->chromadb==0.5.11) (3.7.1)\n",
            "Requirement already satisfied: certifi in /usr/local/lib/python3.10/dist-packages (from httpx>=0.27.0->chromadb==0.5.11) (2024.8.30)\n",
            "Requirement already satisfied: httpcore==1.* in /usr/local/lib/python3.10/dist-packages (from httpx>=0.27.0->chromadb==0.5.11) (1.0.6)\n",
            "Requirement already satisfied: idna in /usr/local/lib/python3.10/dist-packages (from httpx>=0.27.0->chromadb==0.5.11) (3.10)\n",
            "Requirement already satisfied: sniffio in /usr/local/lib/python3.10/dist-packages (from httpx>=0.27.0->chromadb==0.5.11) (1.3.1)\n",
            "Requirement already satisfied: h11<0.15,>=0.13 in /usr/local/lib/python3.10/dist-packages (from httpcore==1.*->httpx>=0.27.0->chromadb==0.5.11) (0.14.0)\n",
            "Requirement already satisfied: six>=1.9.0 in /usr/local/lib/python3.10/dist-packages (from kubernetes>=28.1.0->chromadb==0.5.11) (1.16.0)\n",
            "Requirement already satisfied: python-dateutil>=2.5.3 in /usr/local/lib/python3.10/dist-packages (from kubernetes>=28.1.0->chromadb==0.5.11) (2.8.2)\n",
            "Requirement already satisfied: google-auth>=1.0.1 in /usr/local/lib/python3.10/dist-packages (from kubernetes>=28.1.0->chromadb==0.5.11) (2.27.0)\n",
            "Requirement already satisfied: websocket-client!=0.40.0,!=0.41.*,!=0.42.*,>=0.32.0 in /usr/local/lib/python3.10/dist-packages (from kubernetes>=28.1.0->chromadb==0.5.11) (1.8.0)\n",
            "Requirement already satisfied: requests in /usr/local/lib/python3.10/dist-packages (from kubernetes>=28.1.0->chromadb==0.5.11) (2.32.3)\n",
            "Requirement already satisfied: requests-oauthlib in /usr/local/lib/python3.10/dist-packages (from kubernetes>=28.1.0->chromadb==0.5.11) (1.3.1)\n",
            "Requirement already satisfied: oauthlib>=3.2.2 in /usr/local/lib/python3.10/dist-packages (from kubernetes>=28.1.0->chromadb==0.5.11) (3.2.2)\n",
            "Requirement already satisfied: urllib3>=1.24.2 in /usr/local/lib/python3.10/dist-packages (from kubernetes>=28.1.0->chromadb==0.5.11) (2.2.3)\n",
            "Requirement already satisfied: durationpy>=0.7 in /usr/local/lib/python3.10/dist-packages (from kubernetes>=28.1.0->chromadb==0.5.11) (0.9)\n",
            "Requirement already satisfied: coloredlogs in /usr/local/lib/python3.10/dist-packages (from onnxruntime>=1.14.1->chromadb==0.5.11) (15.0.1)\n",
            "Requirement already satisfied: flatbuffers in /usr/local/lib/python3.10/dist-packages (from onnxruntime>=1.14.1->chromadb==0.5.11) (24.3.25)\n",
            "Requirement already satisfied: protobuf in /usr/local/lib/python3.10/dist-packages (from onnxruntime>=1.14.1->chromadb==0.5.11) (3.20.3)\n",
            "Requirement already satisfied: sympy in /usr/local/lib/python3.10/dist-packages (from onnxruntime>=1.14.1->chromadb==0.5.11) (1.13.1)\n",
            "Requirement already satisfied: deprecated>=1.2.6 in /usr/local/lib/python3.10/dist-packages (from opentelemetry-api>=1.2.0->chromadb==0.5.11) (1.2.14)\n",
            "Requirement already satisfied: importlib-metadata<=8.4.0,>=6.0 in /usr/local/lib/python3.10/dist-packages (from opentelemetry-api>=1.2.0->chromadb==0.5.11) (8.4.0)\n",
            "Requirement already satisfied: googleapis-common-protos~=1.52 in /usr/local/lib/python3.10/dist-packages (from opentelemetry-exporter-otlp-proto-grpc>=1.2.0->chromadb==0.5.11) (1.65.0)\n",
            "Requirement already satisfied: opentelemetry-exporter-otlp-proto-common==1.27.0 in /usr/local/lib/python3.10/dist-packages (from opentelemetry-exporter-otlp-proto-grpc>=1.2.0->chromadb==0.5.11) (1.27.0)\n",
            "Requirement already satisfied: opentelemetry-proto==1.27.0 in /usr/local/lib/python3.10/dist-packages (from opentelemetry-exporter-otlp-proto-grpc>=1.2.0->chromadb==0.5.11) (1.27.0)\n",
            "Requirement already satisfied: opentelemetry-instrumentation-asgi==0.48b0 in /usr/local/lib/python3.10/dist-packages (from opentelemetry-instrumentation-fastapi>=0.41b0->chromadb==0.5.11) (0.48b0)\n",
            "Requirement already satisfied: opentelemetry-instrumentation==0.48b0 in /usr/local/lib/python3.10/dist-packages (from opentelemetry-instrumentation-fastapi>=0.41b0->chromadb==0.5.11) (0.48b0)\n",
            "Requirement already satisfied: opentelemetry-semantic-conventions==0.48b0 in /usr/local/lib/python3.10/dist-packages (from opentelemetry-instrumentation-fastapi>=0.41b0->chromadb==0.5.11) (0.48b0)\n",
            "Requirement already satisfied: opentelemetry-util-http==0.48b0 in /usr/local/lib/python3.10/dist-packages (from opentelemetry-instrumentation-fastapi>=0.41b0->chromadb==0.5.11) (0.48b0)\n",
            "Requirement already satisfied: setuptools>=16.0 in /usr/local/lib/python3.10/dist-packages (from opentelemetry-instrumentation==0.48b0->opentelemetry-instrumentation-fastapi>=0.41b0->chromadb==0.5.11) (75.1.0)\n",
            "Requirement already satisfied: wrapt<2.0.0,>=1.0.0 in /usr/local/lib/python3.10/dist-packages (from opentelemetry-instrumentation==0.48b0->opentelemetry-instrumentation-fastapi>=0.41b0->chromadb==0.5.11) (1.16.0)\n",
            "Requirement already satisfied: asgiref~=3.0 in /usr/local/lib/python3.10/dist-packages (from opentelemetry-instrumentation-asgi==0.48b0->opentelemetry-instrumentation-fastapi>=0.41b0->chromadb==0.5.11) (3.8.1)\n",
            "Requirement already satisfied: monotonic>=1.5 in /usr/local/lib/python3.10/dist-packages (from posthog>=2.4.0->chromadb==0.5.11) (1.6)\n",
            "Requirement already satisfied: backoff>=1.10.0 in /usr/local/lib/python3.10/dist-packages (from posthog>=2.4.0->chromadb==0.5.11) (2.2.1)\n",
            "Requirement already satisfied: annotated-types>=0.6.0 in /usr/local/lib/python3.10/dist-packages (from pydantic>=1.9->chromadb==0.5.11) (0.7.0)\n",
            "Requirement already satisfied: pydantic-core==2.23.4 in /usr/local/lib/python3.10/dist-packages (from pydantic>=1.9->chromadb==0.5.11) (2.23.4)\n",
            "Requirement already satisfied: markdown-it-py>=2.2.0 in /usr/local/lib/python3.10/dist-packages (from rich>=10.11.0->chromadb==0.5.11) (3.0.0)\n",
            "Requirement already satisfied: pygments<3.0.0,>=2.13.0 in /usr/local/lib/python3.10/dist-packages (from rich>=10.11.0->chromadb==0.5.11) (2.18.0)\n",
            "Requirement already satisfied: huggingface-hub<1.0,>=0.16.4 in /usr/local/lib/python3.10/dist-packages (from tokenizers>=0.13.2->chromadb==0.5.11) (0.26.2)\n",
            "Requirement already satisfied: click>=8.0.0 in /usr/local/lib/python3.10/dist-packages (from typer>=0.9.0->chromadb==0.5.11) (8.1.7)\n",
            "Requirement already satisfied: shellingham>=1.3.0 in /usr/local/lib/python3.10/dist-packages (from typer>=0.9.0->chromadb==0.5.11) (1.5.4)\n",
            "Requirement already satisfied: httptools>=0.5.0 in /usr/local/lib/python3.10/dist-packages (from uvicorn[standard]>=0.18.3->chromadb==0.5.11) (0.6.4)\n",
            "Requirement already satisfied: python-dotenv>=0.13 in /usr/local/lib/python3.10/dist-packages (from uvicorn[standard]>=0.18.3->chromadb==0.5.11) (1.0.1)\n",
            "Requirement already satisfied: uvloop!=0.15.0,!=0.15.1,>=0.14.0 in /usr/local/lib/python3.10/dist-packages (from uvicorn[standard]>=0.18.3->chromadb==0.5.11) (0.21.0)\n",
            "Requirement already satisfied: watchfiles>=0.13 in /usr/local/lib/python3.10/dist-packages (from uvicorn[standard]>=0.18.3->chromadb==0.5.11) (0.24.0)\n",
            "Requirement already satisfied: websockets>=10.4 in /usr/local/lib/python3.10/dist-packages (from uvicorn[standard]>=0.18.3->chromadb==0.5.11) (12.0)\n",
            "Requirement already satisfied: cachetools<6.0,>=2.0.0 in /usr/local/lib/python3.10/dist-packages (from google-auth>=1.0.1->kubernetes>=28.1.0->chromadb==0.5.11) (5.5.0)\n",
            "Requirement already satisfied: pyasn1-modules>=0.2.1 in /usr/local/lib/python3.10/dist-packages (from google-auth>=1.0.1->kubernetes>=28.1.0->chromadb==0.5.11) (0.4.1)\n",
            "Requirement already satisfied: rsa<5,>=3.1.4 in /usr/local/lib/python3.10/dist-packages (from google-auth>=1.0.1->kubernetes>=28.1.0->chromadb==0.5.11) (4.9)\n",
            "Requirement already satisfied: filelock in /usr/local/lib/python3.10/dist-packages (from huggingface-hub<1.0,>=0.16.4->tokenizers>=0.13.2->chromadb==0.5.11) (3.16.1)\n",
            "Requirement already satisfied: fsspec>=2023.5.0 in /usr/local/lib/python3.10/dist-packages (from huggingface-hub<1.0,>=0.16.4->tokenizers>=0.13.2->chromadb==0.5.11) (2024.10.0)\n",
            "Requirement already satisfied: zipp>=0.5 in /usr/local/lib/python3.10/dist-packages (from importlib-metadata<=8.4.0,>=6.0->opentelemetry-api>=1.2.0->chromadb==0.5.11) (3.20.2)\n",
            "Requirement already satisfied: mdurl~=0.1 in /usr/local/lib/python3.10/dist-packages (from markdown-it-py>=2.2.0->rich>=10.11.0->chromadb==0.5.11) (0.1.2)\n",
            "Requirement already satisfied: charset-normalizer<4,>=2 in /usr/local/lib/python3.10/dist-packages (from requests->kubernetes>=28.1.0->chromadb==0.5.11) (3.4.0)\n",
            "Requirement already satisfied: exceptiongroup in /usr/local/lib/python3.10/dist-packages (from anyio->httpx>=0.27.0->chromadb==0.5.11) (1.2.2)\n",
            "Requirement already satisfied: humanfriendly>=9.1 in /usr/local/lib/python3.10/dist-packages (from coloredlogs->onnxruntime>=1.14.1->chromadb==0.5.11) (10.0)\n",
            "Requirement already satisfied: mpmath<1.4,>=1.1.0 in /usr/local/lib/python3.10/dist-packages (from sympy->onnxruntime>=1.14.1->chromadb==0.5.11) (1.3.0)\n",
            "Requirement already satisfied: pyasn1<0.7.0,>=0.4.6 in /usr/local/lib/python3.10/dist-packages (from pyasn1-modules>=0.2.1->google-auth>=1.0.1->kubernetes>=28.1.0->chromadb==0.5.11) (0.6.1)\n",
            "Requirement already satisfied: e2b==1.0.2 in /usr/local/lib/python3.10/dist-packages (1.0.2)\n",
            "Requirement already satisfied: attrs<24.0.0,>=23.2.0 in /usr/local/lib/python3.10/dist-packages (from e2b==1.0.2) (23.2.0)\n",
            "Requirement already satisfied: httpcore<2.0.0,>=1.0.5 in /usr/local/lib/python3.10/dist-packages (from e2b==1.0.2) (1.0.6)\n",
            "Requirement already satisfied: httpx<0.28.0,>=0.27.0 in /usr/local/lib/python3.10/dist-packages (from e2b==1.0.2) (0.27.2)\n",
            "Requirement already satisfied: packaging<25.0,>=24.1 in /usr/local/lib/python3.10/dist-packages (from e2b==1.0.2) (24.1)\n",
            "Requirement already satisfied: protobuf<6.0.0,>=3.20.0 in /usr/local/lib/python3.10/dist-packages (from e2b==1.0.2) (3.20.3)\n",
            "Requirement already satisfied: python-dateutil>=2.8.2 in /usr/local/lib/python3.10/dist-packages (from e2b==1.0.2) (2.8.2)\n",
            "Requirement already satisfied: typing-extensions<5.0.0,>=4.12.2 in /usr/local/lib/python3.10/dist-packages (from e2b==1.0.2) (4.12.2)\n",
            "Requirement already satisfied: certifi in /usr/local/lib/python3.10/dist-packages (from httpcore<2.0.0,>=1.0.5->e2b==1.0.2) (2024.8.30)\n",
            "Requirement already satisfied: h11<0.15,>=0.13 in /usr/local/lib/python3.10/dist-packages (from httpcore<2.0.0,>=1.0.5->e2b==1.0.2) (0.14.0)\n",
            "Requirement already satisfied: anyio in /usr/local/lib/python3.10/dist-packages (from httpx<0.28.0,>=0.27.0->e2b==1.0.2) (3.7.1)\n",
            "Requirement already satisfied: idna in /usr/local/lib/python3.10/dist-packages (from httpx<0.28.0,>=0.27.0->e2b==1.0.2) (3.10)\n",
            "Requirement already satisfied: sniffio in /usr/local/lib/python3.10/dist-packages (from httpx<0.28.0,>=0.27.0->e2b==1.0.2) (1.3.1)\n",
            "Requirement already satisfied: six>=1.5 in /usr/local/lib/python3.10/dist-packages (from python-dateutil>=2.8.2->e2b==1.0.2) (1.16.0)\n",
            "Requirement already satisfied: exceptiongroup in /usr/local/lib/python3.10/dist-packages (from anyio->httpx<0.28.0,>=0.27.0->e2b==1.0.2) (1.2.2)\n",
            "Collecting e2b-code-interpreter==1.0.1\n",
            "  Downloading e2b_code_interpreter-1.0.1-py3-none-any.whl.metadata (2.6 kB)\n",
            "Requirement already satisfied: attrs>=21.3.0 in /usr/local/lib/python3.10/dist-packages (from e2b-code-interpreter==1.0.1) (23.2.0)\n",
            "Requirement already satisfied: e2b<2.0.0,>=1.0.0 in /usr/local/lib/python3.10/dist-packages (from e2b-code-interpreter==1.0.1) (1.0.2)\n",
            "Requirement already satisfied: httpx<0.28.0,>=0.20.0 in /usr/local/lib/python3.10/dist-packages (from e2b-code-interpreter==1.0.1) (0.27.2)\n",
            "Requirement already satisfied: httpcore<2.0.0,>=1.0.5 in /usr/local/lib/python3.10/dist-packages (from e2b<2.0.0,>=1.0.0->e2b-code-interpreter==1.0.1) (1.0.6)\n",
            "Requirement already satisfied: packaging<25.0,>=24.1 in /usr/local/lib/python3.10/dist-packages (from e2b<2.0.0,>=1.0.0->e2b-code-interpreter==1.0.1) (24.1)\n",
            "Requirement already satisfied: protobuf<6.0.0,>=3.20.0 in /usr/local/lib/python3.10/dist-packages (from e2b<2.0.0,>=1.0.0->e2b-code-interpreter==1.0.1) (3.20.3)\n",
            "Requirement already satisfied: python-dateutil>=2.8.2 in /usr/local/lib/python3.10/dist-packages (from e2b<2.0.0,>=1.0.0->e2b-code-interpreter==1.0.1) (2.8.2)\n",
            "Requirement already satisfied: typing-extensions<5.0.0,>=4.12.2 in /usr/local/lib/python3.10/dist-packages (from e2b<2.0.0,>=1.0.0->e2b-code-interpreter==1.0.1) (4.12.2)\n",
            "Requirement already satisfied: anyio in /usr/local/lib/python3.10/dist-packages (from httpx<0.28.0,>=0.20.0->e2b-code-interpreter==1.0.1) (3.7.1)\n",
            "Requirement already satisfied: certifi in /usr/local/lib/python3.10/dist-packages (from httpx<0.28.0,>=0.20.0->e2b-code-interpreter==1.0.1) (2024.8.30)\n",
            "Requirement already satisfied: idna in /usr/local/lib/python3.10/dist-packages (from httpx<0.28.0,>=0.20.0->e2b-code-interpreter==1.0.1) (3.10)\n",
            "Requirement already satisfied: sniffio in /usr/local/lib/python3.10/dist-packages (from httpx<0.28.0,>=0.20.0->e2b-code-interpreter==1.0.1) (1.3.1)\n",
            "Requirement already satisfied: h11<0.15,>=0.13 in /usr/local/lib/python3.10/dist-packages (from httpcore<2.0.0,>=1.0.5->e2b<2.0.0,>=1.0.0->e2b-code-interpreter==1.0.1) (0.14.0)\n",
            "Requirement already satisfied: six>=1.5 in /usr/local/lib/python3.10/dist-packages (from python-dateutil>=2.8.2->e2b<2.0.0,>=1.0.0->e2b-code-interpreter==1.0.1) (1.16.0)\n",
            "Requirement already satisfied: exceptiongroup in /usr/local/lib/python3.10/dist-packages (from anyio->httpx<0.28.0,>=0.20.0->e2b-code-interpreter==1.0.1) (1.2.2)\n",
            "Downloading e2b_code_interpreter-1.0.1-py3-none-any.whl (12 kB)\n",
            "Installing collected packages: e2b-code-interpreter\n",
            "Successfully installed e2b-code-interpreter-1.0.1\n",
            "Requirement already satisfied: langgraph==0.2.23 in /usr/local/lib/python3.10/dist-packages (0.2.23)\n",
            "Requirement already satisfied: langchain-core<0.4,>=0.2.39 in /usr/local/lib/python3.10/dist-packages (from langgraph==0.2.23) (0.3.13)\n",
            "Requirement already satisfied: langgraph-checkpoint<2.0.0,>=1.0.2 in /usr/local/lib/python3.10/dist-packages (from langgraph==0.2.23) (1.0.12)\n",
            "Requirement already satisfied: PyYAML>=5.3 in /usr/local/lib/python3.10/dist-packages (from langchain-core<0.4,>=0.2.39->langgraph==0.2.23) (6.0.2)\n",
            "Requirement already satisfied: jsonpatch<2.0,>=1.33 in /usr/local/lib/python3.10/dist-packages (from langchain-core<0.4,>=0.2.39->langgraph==0.2.23) (1.33)\n",
            "Requirement already satisfied: langsmith<0.2.0,>=0.1.125 in /usr/local/lib/python3.10/dist-packages (from langchain-core<0.4,>=0.2.39->langgraph==0.2.23) (0.1.137)\n",
            "Requirement already satisfied: packaging<25,>=23.2 in /usr/local/lib/python3.10/dist-packages (from langchain-core<0.4,>=0.2.39->langgraph==0.2.23) (24.1)\n",
            "Requirement already satisfied: pydantic<3.0.0,>=2.5.2 in /usr/local/lib/python3.10/dist-packages (from langchain-core<0.4,>=0.2.39->langgraph==0.2.23) (2.9.2)\n",
            "Requirement already satisfied: tenacity!=8.4.0,<10.0.0,>=8.1.0 in /usr/local/lib/python3.10/dist-packages (from langchain-core<0.4,>=0.2.39->langgraph==0.2.23) (8.5.0)\n",
            "Requirement already satisfied: typing-extensions>=4.7 in /usr/local/lib/python3.10/dist-packages (from langchain-core<0.4,>=0.2.39->langgraph==0.2.23) (4.12.2)\n",
            "Requirement already satisfied: msgpack<2.0.0,>=1.1.0 in /usr/local/lib/python3.10/dist-packages (from langgraph-checkpoint<2.0.0,>=1.0.2->langgraph==0.2.23) (1.1.0)\n",
            "Requirement already satisfied: jsonpointer>=1.9 in /usr/local/lib/python3.10/dist-packages (from jsonpatch<2.0,>=1.33->langchain-core<0.4,>=0.2.39->langgraph==0.2.23) (3.0.0)\n",
            "Requirement already satisfied: httpx<1,>=0.23.0 in /usr/local/lib/python3.10/dist-packages (from langsmith<0.2.0,>=0.1.125->langchain-core<0.4,>=0.2.39->langgraph==0.2.23) (0.27.2)\n",
            "Requirement already satisfied: orjson<4.0.0,>=3.9.14 in /usr/local/lib/python3.10/dist-packages (from langsmith<0.2.0,>=0.1.125->langchain-core<0.4,>=0.2.39->langgraph==0.2.23) (3.10.10)\n",
            "Requirement already satisfied: requests<3,>=2 in /usr/local/lib/python3.10/dist-packages (from langsmith<0.2.0,>=0.1.125->langchain-core<0.4,>=0.2.39->langgraph==0.2.23) (2.32.3)\n",
            "Requirement already satisfied: requests-toolbelt<2.0.0,>=1.0.0 in /usr/local/lib/python3.10/dist-packages (from langsmith<0.2.0,>=0.1.125->langchain-core<0.4,>=0.2.39->langgraph==0.2.23) (1.0.0)\n",
            "Requirement already satisfied: annotated-types>=0.6.0 in /usr/local/lib/python3.10/dist-packages (from pydantic<3.0.0,>=2.5.2->langchain-core<0.4,>=0.2.39->langgraph==0.2.23) (0.7.0)\n",
            "Requirement already satisfied: pydantic-core==2.23.4 in /usr/local/lib/python3.10/dist-packages (from pydantic<3.0.0,>=2.5.2->langchain-core<0.4,>=0.2.39->langgraph==0.2.23) (2.23.4)\n",
            "Requirement already satisfied: anyio in /usr/local/lib/python3.10/dist-packages (from httpx<1,>=0.23.0->langsmith<0.2.0,>=0.1.125->langchain-core<0.4,>=0.2.39->langgraph==0.2.23) (3.7.1)\n",
            "Requirement already satisfied: certifi in /usr/local/lib/python3.10/dist-packages (from httpx<1,>=0.23.0->langsmith<0.2.0,>=0.1.125->langchain-core<0.4,>=0.2.39->langgraph==0.2.23) (2024.8.30)\n",
            "Requirement already satisfied: httpcore==1.* in /usr/local/lib/python3.10/dist-packages (from httpx<1,>=0.23.0->langsmith<0.2.0,>=0.1.125->langchain-core<0.4,>=0.2.39->langgraph==0.2.23) (1.0.6)\n",
            "Requirement already satisfied: idna in /usr/local/lib/python3.10/dist-packages (from httpx<1,>=0.23.0->langsmith<0.2.0,>=0.1.125->langchain-core<0.4,>=0.2.39->langgraph==0.2.23) (3.10)\n",
            "Requirement already satisfied: sniffio in /usr/local/lib/python3.10/dist-packages (from httpx<1,>=0.23.0->langsmith<0.2.0,>=0.1.125->langchain-core<0.4,>=0.2.39->langgraph==0.2.23) (1.3.1)\n",
            "Requirement already satisfied: h11<0.15,>=0.13 in /usr/local/lib/python3.10/dist-packages (from httpcore==1.*->httpx<1,>=0.23.0->langsmith<0.2.0,>=0.1.125->langchain-core<0.4,>=0.2.39->langgraph==0.2.23) (0.14.0)\n",
            "Requirement already satisfied: charset-normalizer<4,>=2 in /usr/local/lib/python3.10/dist-packages (from requests<3,>=2->langsmith<0.2.0,>=0.1.125->langchain-core<0.4,>=0.2.39->langgraph==0.2.23) (3.4.0)\n",
            "Requirement already satisfied: urllib3<3,>=1.21.1 in /usr/local/lib/python3.10/dist-packages (from requests<3,>=2->langsmith<0.2.0,>=0.1.125->langchain-core<0.4,>=0.2.39->langgraph==0.2.23) (2.2.3)\n",
            "Requirement already satisfied: exceptiongroup in /usr/local/lib/python3.10/dist-packages (from anyio->httpx<1,>=0.23.0->langsmith<0.2.0,>=0.1.125->langchain-core<0.4,>=0.2.39->langgraph==0.2.23) (1.2.2)\n",
            "Requirement already satisfied: pypdf==5.1.0 in /usr/local/lib/python3.10/dist-packages (5.1.0)\n",
            "Requirement already satisfied: typing_extensions>=4.0 in /usr/local/lib/python3.10/dist-packages (from pypdf==5.1.0) (4.12.2)\n"
          ]
        }
      ],
      "source": [
        "!pip install langchain-community==0.3.1\n",
        "!pip install langchain-openai==0.2.0\n",
        "!pip install chromadb==0.5.11\n",
        "!pip install e2b==1.0.2\n",
        "!pip install e2b-code-interpreter==1.0.1\n",
        "!pip install langgraph==0.2.23\n",
        "!pip install pypdf==5.1.0\n",
        "!pip install -q gradio"
      ]
    },
    {
      "cell_type": "code",
      "execution_count": 3,
      "metadata": {
        "id": "N1HOnvg_Q2Aw"
      },
      "outputs": [],
      "source": [
        "import os\n",
        "import getpass"
      ]
    },
    {
      "cell_type": "code",
      "execution_count": 4,
      "metadata": {
        "colab": {
          "base_uri": "https://localhost:8080/"
        },
        "id": "NQu_7Rz9kTqf",
        "outputId": "9cf47c19-be3a-4e7b-a2f0-a92b981799d9"
      },
      "outputs": [
        {
          "name": "stdout",
          "output_type": "stream",
          "text": [
            "Enter your OpenAi Key here:··········\n",
            "Enter your Tavily Key here:··········\n",
            "Enter your E2B Key here:··········\n"
          ]
        }
      ],
      "source": [
        "\n",
        "\n",
        "# openai key\n",
        "os.environ[\"OPENAI_API_KEY\"] = getpass.getpass(\"Enter your OpenAi Key here:\")\n",
        "\n",
        "# tavily key\n",
        "os.environ[\"TAVILY_API_KEY\"] = getpass.getpass(\"Enter your Tavily Key here:\")\n",
        "\n",
        "# e2b key\n",
        "os.environ[\"E2B_API_KEY\"] = getpass.getpass(\"Enter your E2B Key here:\")"
      ]
    },
    {
      "cell_type": "code",
      "execution_count": null,
      "metadata": {},
      "outputs": [],
      "source": [
        "# langchain key for langsmith tracing / observability\n",
        "os.environ[\"LANGCHAIN_TRACING_V2\"] = \"true\"\n",
        "os.environ[\"LANGCHAIN_API_KEY\"] = getpass.getpass(\"Enter your Langchain Key here:\")"
      ]
    },
    {
      "cell_type": "code",
      "execution_count": 5,
      "metadata": {
        "id": "fHQKgiPtR0nZ"
      },
      "outputs": [],
      "source": [
        "# from dotenv import load_dotenv\n",
        "# load_dotenv()\n"
      ]
    },
    {
      "cell_type": "markdown",
      "metadata": {},
      "source": [
        "## Build RAG Index"
      ]
    },
    {
      "cell_type": "markdown",
      "metadata": {
        "id": "j0Fach7IR0na"
      },
      "source": [
        "**Code Breakdown**\n",
        "\n",
        "- **Imports Libraries**: The code imports several modules necessary for handling text processing and vector storage, including `pprint` for pretty-printing data and various components from the LangChain library.\n",
        "  \n",
        "- **Sets Up Embeddings**: It initializes the `OpenAIEmbeddings` class, which will be used to create vector representations of text for efficient retrieval.\n",
        "\n",
        "- **Loads PDF Document**: The `PyPDFLoader` class is used to load internal PDFs into a document object for further processing.\n",
        "\n",
        "- **Splits Text into Chunks**: The `RecursiveCharacterTextSplitter` is configured to split the loaded document into chunks of 500 characters, with no overlap, to facilitate better handling of the text for indexing.\n",
        "\n",
        "- **Processes Document Splits**: The `split_documents` method is called to split the loaded document into manageable segments based on the defined chunk size.\n",
        "\n",
        "- **Creates Vector Store**: The `Chroma` vector store is initialized with the split documents and the embeddings, creating an index for efficient searching and retrieval.\n",
        "\n",
        "- **Configures Retriever**: Finally, the vector store is converted into a retriever, which will allow for querying the stored embeddings to retrieve relevant document chunks based on user input or queries."
      ]
    },
    {
      "cell_type": "code",
      "execution_count": 16,
      "metadata": {
        "colab": {
          "base_uri": "https://localhost:8080/"
        },
        "id": "41Rvc69LjiSu",
        "outputId": "2a8ceaf1-ff80-468d-81c9-c957a39942f8"
      },
      "outputs": [
        {
          "name": "stderr",
          "output_type": "stream",
          "text": [
            "WARNING:pypdf._reader:Ignoring wrong pointing object 6 0 (offset 0)\n",
            "WARNING:pypdf._reader:Ignoring wrong pointing object 8 0 (offset 0)\n",
            "WARNING:pypdf._reader:Ignoring wrong pointing object 10 0 (offset 0)\n",
            "WARNING:pypdf._reader:Ignoring wrong pointing object 23 0 (offset 0)\n",
            "WARNING:pypdf._reader:Ignoring wrong pointing object 6 0 (offset 0)\n",
            "WARNING:pypdf._reader:Ignoring wrong pointing object 8 0 (offset 0)\n",
            "WARNING:pypdf._reader:Ignoring wrong pointing object 15 0 (offset 0)\n"
          ]
        }
      ],
      "source": [
        "from pprint import pprint\n",
        "# RAG\n",
        "\n",
        "### Build Index\n",
        "\n",
        "from langchain.text_splitter import RecursiveCharacterTextSplitter\n",
        "from langchain_community.document_loaders import PyPDFLoader\n",
        "from langchain_community.vectorstores import Chroma\n",
        "from langchain_openai import OpenAIEmbeddings\n",
        "\n",
        "### from langchain_cohere import CohereEmbeddings\n",
        "\n",
        "# Set embeddings\n",
        "embd = OpenAIEmbeddings()\n",
        "\n",
        "# Load local document\n",
        "local_doc_nvidia = PyPDFLoader(\"NVIDIA_Internal_Analysis.pdf\").load() # change to your own path\n",
        "local_doc_amd = PyPDFLoader(\"AMD_Internal_Analysis.pdf\").load() # change to your own path\n",
        "\n",
        "# Combine documents\n",
        "local_docs = local_doc_nvidia + local_doc_amd\n",
        "# Split\n",
        "# Split\n",
        "text_splitter = RecursiveCharacterTextSplitter(\n",
        "    chunk_size=500,\n",
        "    chunk_overlap=50\n",
        "    # length_function=len,  # use character length\n",
        "    # separators=[\"\\n\\n\", \"\\n\", \" \", \"\"]  # default separators\n",
        ")\n",
        "\n",
        "doc_splits = text_splitter.split_documents(local_docs)\n",
        "\n",
        "doc_splits = text_splitter.split_documents(local_docs)\n",
        "\n",
        "# print this to see the splits\n",
        "# for i, doc in enumerate(doc_splits, 1):\n",
        "#     print(f\"\\nDocument Split #{i}:\")\n",
        "#     print(\"-\" * 50)\n",
        "#     print(doc.page_content)\n",
        "#     print(\"-\" * 50)\n",
        "\n",
        "# Add to vectorstore\n",
        "vectorstore = Chroma.from_documents(\n",
        "    documents=doc_splits,\n",
        "    collection_name=\"rag-chroma\",\n",
        "    embedding=embd,\n",
        ")\n",
        "\n",
        "retriever = vectorstore.as_retriever()\n"
      ]
    },
    {
      "cell_type": "markdown",
      "metadata": {},
      "source": [
        "## Intelligent Routing"
      ]
    },
    {
      "cell_type": "markdown",
      "metadata": {},
      "source": [
        "### Create a Router"
      ]
    },
    {
      "cell_type": "markdown",
      "metadata": {
        "id": "Tyc3lNLAR0nb"
      },
      "source": [
        "**Code Breakdown**\n",
        "\n",
        "- **Imports Necessary Modules**: The code imports required classes and functions for creating prompts, managing OpenAI models, and defining data models.\n",
        "\n",
        "- **Defines Data Model**: The `RouteQuery` class uses Pydantic to define a model that represents a routing decision, specifying whether to use a vector store or web search based on the user query.\n",
        "\n",
        "- **Initializes Language Model**: An instance of `ChatOpenAI` is created with the GPT-4o model.\n",
        "\n",
        "- **Sets Up Structured Output**: The `structured_llm_router` is prepared to output results as instances of the `RouteQuery` model, allowing for clear routing decisions.\n",
        "\n",
        "- **Creates System Prompt**: A prompt is defined that instructs the language model to route queries specifically related to financial statements of \"NVIDIA\" and \"AMD\" to the vector store, while routing other company inquiries to web search.\n",
        "\n",
        "- **Builds Prompt Template**: The `ChatPromptTemplate` is created from the system and user message templates, facilitating structured conversation with the model.\n",
        "\n",
        "- **Combines Prompt and Router**: The prompt and the structured output router are combined into a `question_router`, which will handle user inquiries.\n",
        "\n",
        "- **Invokes Question Router**: Two example queries are processed through the `question_router`. The first query about NVIDIA is routed to the vector store, while the second query about Intel is directed to web search, with results printed for each."
      ]
    },
    {
      "cell_type": "code",
      "execution_count": 17,
      "metadata": {
        "colab": {
          "base_uri": "https://localhost:8080/"
        },
        "id": "rjbigCRwjiSx",
        "outputId": "6e3931a0-f052-431b-d814-7336a59e3a4a"
      },
      "outputs": [
        {
          "name": "stdout",
          "output_type": "stream",
          "text": [
            "datasource='vectorstore'\n",
            "datasource='web_search'\n"
          ]
        }
      ],
      "source": [
        "\n",
        "from typing import Literal\n",
        "\n",
        "from langchain_core.prompts import ChatPromptTemplate\n",
        "from langchain_openai import ChatOpenAI\n",
        "\n",
        "from pydantic import BaseModel, Field\n",
        "\n",
        "\n",
        "# Data model\n",
        "class RouteQuery(BaseModel):\n",
        "    \"\"\"Route a user query to the most relevant datasource.\"\"\"\n",
        "\n",
        "    datasource: Literal[\"vectorstore\", \"web_search\"] = Field(\n",
        "        ...,\n",
        "        description=\"Given a user question choose to route it to web search or a vectorstore.\",\n",
        "    )\n",
        "\n",
        "\n",
        "# LLM with function call\n",
        "llm = ChatOpenAI(model=\"gpt-4o\")\n",
        "structured_llm_router = llm.with_structured_output(RouteQuery)\n",
        "\n",
        "# Prompt\n",
        "system = \"\"\"You are an expert at routing a user question to a vectorstore or web search.\n",
        "The vectorstore contains documents related to financial statements of the companies \"NVIDIA\" and \"AMD\".\n",
        "Use the vectorstore for questions on financial statements of these companies. For questions on other Companies, use web-search.\"\"\"\n",
        "\n",
        "route_prompt = ChatPromptTemplate.from_messages(\n",
        "    [\n",
        "        (\"system\", system),\n",
        "        (\"human\", \"{question}\"),\n",
        "    ]\n",
        ")\n",
        "\n",
        "question_router = route_prompt | structured_llm_router\n",
        "\n",
        "# test the router for a question about internal documents\n",
        "print(\n",
        "    question_router.invoke(\n",
        "        {\"question\": \"What is the trend for qualterly revenue for NVIDIA in the last year\"}\n",
        "    )\n",
        ")\n",
        "# test the router for a question about external information\n",
        "print(question_router.invoke({\"question\": \"What is the trend for qualterly revenue for Intel in the last year\"}))"
      ]
    },
    {
      "cell_type": "markdown",
      "metadata": {},
      "source": [
        "### Retrieval Grader"
      ]
    },
    {
      "cell_type": "markdown",
      "metadata": {
        "id": "HOJEVSP3R0nb"
      },
      "source": [
        "**Code Breakdown**\n",
        "\n",
        "- **Defines Grading Model**: The `GradeDocuments` class uses Pydantic to create a model for grading the relevance of retrieved documents, with a binary score indicating relevance as \"yes\" or \"no.\"\n",
        "\n",
        "- **Initializes Language Model**: A `ChatOpenAI` instance is created with the GPT-4o model.\n",
        "\n",
        "- **Sets Up Structured Output**: The `structured_llm_grader` is prepared to provide structured outputs based on the `GradeDocuments` model, enabling clear grading decisions.\n",
        "\n",
        "- **Creates Grading Prompt**: A system prompt is defined to instruct the model on how to assess the relevance of a retrieved document, emphasizing the identification of keywords or semantic relevance without strict criteria.\n",
        "\n",
        "- **Builds Prompt Template**: The `ChatPromptTemplate` is constructed to format the input from both the system and user, incorporating the retrieved document and user question for the grading task.\n",
        "\n",
        "- **Combines Prompt and Grader**: The `grade_prompt` is combined with the structured output to create the `retrieval_grader`, which will evaluate the relevance of documents based on user questions.\n",
        "\n",
        "- **Retrieves Documents**: The `retriever` is used to fetch relevant documents based on a specific question regarding NVIDIA's Fiscal Year Revenue.\n",
        "\n",
        "- **Grades Retrieved Document**: The code extracts the content of a specific document and invokes the `retrieval_grader` to assess its relevance to the question, printing the binary relevance score (\"yes\" or \"no\") as the output."
      ]
    },
    {
      "cell_type": "code",
      "execution_count": 18,
      "metadata": {
        "colab": {
          "base_uri": "https://localhost:8080/"
        },
        "id": "Va74WiShjiSy",
        "outputId": "273df83f-da03-46ce-9d8a-c47626fc0fb1"
      },
      "outputs": [
        {
          "name": "stdout",
          "output_type": "stream",
          "text": [
            "binary_score='yes'\n"
          ]
        }
      ],
      "source": [
        "# Data model\n",
        "class GradeDocuments(BaseModel):\n",
        "    \"\"\"Binary score for relevance check on retrieved documents.\"\"\"\n",
        "\n",
        "    binary_score: str = Field(\n",
        "        description=\"Documents are relevant to the question, 'yes' or 'no'\"\n",
        "    )\n",
        "\n",
        "# LLM with function call\n",
        "llm = ChatOpenAI(model=\"gpt-4o\")\n",
        "structured_llm_grader = llm.with_structured_output(GradeDocuments)\n",
        "\n",
        "# Prompt\n",
        "system = \"\"\"You are a grader assessing relevance of a retrieved document to a user question. \\n\n",
        "    If the document contains keyword(s) or semantic meaning related to the user question, grade it as relevant. \\n\n",
        "    It does not need to be a stringent test. The goal is to filter out erroneous retrievals. \\n\n",
        "    Give a binary score 'yes' or 'no' score to indicate whether the document is relevant to the question.\"\"\"\n",
        "\n",
        "grade_prompt = ChatPromptTemplate.from_messages(\n",
        "    [\n",
        "        (\"system\", system),\n",
        "        (\"human\", \"Retrieved document: \\n\\n {document} \\n\\n User question: {question}\"),\n",
        "    ]\n",
        ")\n",
        "\n",
        "retrieval_grader = grade_prompt | structured_llm_grader\n",
        "question = \"What is the Fiscal Year Revenue for NVIDIA in the last year\"\n",
        "docs = retriever.invoke(question)\n",
        "doc_txt = docs[1].page_content\n",
        "print(retrieval_grader.invoke({\"question\": question, \"document\": doc_txt}))"
      ]
    },
    {
      "cell_type": "markdown",
      "metadata": {},
      "source": [
        "### Generate a response"
      ]
    },
    {
      "cell_type": "markdown",
      "metadata": {
        "id": "TMnOTO7IR0nb"
      },
      "source": [
        "**Code Breakdown**\n",
        "\n",
        "- **Imports Required Modules**: The code imports necessary modules from LangChain, including functionality to pull prompts from the hub and output parsers.\n",
        "\n",
        "- **Pulls Prompt from Hub**: A prompt is retrieved from the LangChain hub using `hub.pull`, allowing for a pre-defined structure to guide the model's responses.\n",
        "\n",
        "- **Initializes Language Model**: An instance of `ChatOpenAI` is created with the GPT-4o model.\n",
        "\n",
        "- **Defines Document Formatting Function**: A `format_docs` function is defined to concatenate the contents of retrieved documents into a single string, separated by new lines.\n",
        "\n",
        "- **Creates Processing Chain**: A processing chain, `rag_chain`, is constructed by linking the pulled prompt, the language model, and an output parser (`StrOutputParser`) to handle the formatting of the final output.\n",
        "\n",
        "- **Executes Chain with Input**: The `rag_chain` is invoked with a dictionary containing the context (retrieved documents) and the user question, generating a response based on the integrated components.\n",
        "\n",
        "- **Prints Output**: The resulting generation is printed, displaying the model's answer informed by the context provided by the retrieved documents and the user question."
      ]
    },
    {
      "cell_type": "code",
      "execution_count": 19,
      "metadata": {
        "colab": {
          "base_uri": "https://localhost:8080/"
        },
        "id": "rBd52-xcjiSy",
        "outputId": "9fd5ec5c-7d79-494c-f6a6-3ba90ea4a8ef"
      },
      "outputs": [
        {
          "name": "stderr",
          "output_type": "stream",
          "text": [
            "/usr/local/lib/python3.10/dist-packages/langsmith/client.py:354: LangSmithMissingAPIKeyWarning: API key must be provided when using hosted LangSmith API\n",
            "  warnings.warn(\n"
          ]
        },
        {
          "name": "stdout",
          "output_type": "stream",
          "text": [
            "The Fiscal Year Revenue for NVIDIA in the last year was $60.90 billion. This marked a significant increase of 126% from the previous year.\n"
          ]
        }
      ],
      "source": [
        "\n",
        "from langchain import hub\n",
        "from langchain_core.output_parsers import StrOutputParser\n",
        "\n",
        "# Prompt\n",
        "prompt = hub.pull(\"rlm/rag-prompt\")\n",
        "\n",
        "# LLM\n",
        "llm = ChatOpenAI(model_name=\"gpt-4o\")\n",
        "\n",
        "\n",
        "# Post-processing\n",
        "def format_docs(docs):\n",
        "    return \"\\n\\n\".join(doc.page_content for doc in docs)\n",
        "\n",
        "\n",
        "# Chain\n",
        "rag_chain = prompt | llm | StrOutputParser()\n",
        "\n",
        "# Run\n",
        "generation = rag_chain.invoke({\"context\": docs, \"question\": question})\n",
        "print(generation)"
      ]
    },
    {
      "cell_type": "markdown",
      "metadata": {},
      "source": [
        "### Hallucination Grader"
      ]
    },
    {
      "cell_type": "markdown",
      "metadata": {
        "id": "VXqcv8QqR0nc"
      },
      "source": [
        "**Explanation of Code:**\n",
        "\n",
        "1. **Defining a Data Model:** The `GradeHallucinations` class inherits from `BaseModel` and is designed to represent a binary score that will indicate whether an answer contains hallucination (non-factual information) or not. The `binary_score` field is a string that accepts two values: `'yes'` or `'no'`, based on whether the response is factually grounded.\n",
        "\n",
        "2. **Configuring the LLM (Language Model):** An instance of `ChatOpenAI` named `llm` is created with the `gpt-4o` model.\n",
        "\n",
        "3. **Structured Output for Grading:** The `structured_llm_grader` variable is created by wrapping the `llm` instance with the `with_structured_output` method, allowing the model to produce outputs based on the `GradeHallucinations` structure (i.e., returning only `'yes'` or `'no'` for factual accuracy).\n",
        "\n",
        "4. **Defining the System Prompt:** A `system` message string is created to instruct the model that it should act as a grader, deciding whether an LLM-generated answer is grounded in or supported by provided facts.\n",
        "\n",
        "5. **Prompt Template Creation:** `hallucination_prompt` is initialized as a `ChatPromptTemplate` using a `system` message and a `human` message template. The `human` message uses placeholders (`{documents}` and `{generation}`) for inserting the factual documents and the LLM’s generated response.\n",
        "\n",
        "6. **Combining the Prompt and Grader:** `hallucination_grader` is created by combining `hallucination_prompt` with `structured_llm_grader`, ensuring that the structured output of the model will follow the specified grading format.\n",
        "\n",
        "7. **Invocation of Grader:** The `invoke` method on `hallucination_grader` passes in the variables `docs` (factual references) and `generation` (the LLM's answer). The model assesses if `generation` aligns with `docs`, returning `'yes'` or `'no'` as a binary grade for factual grounding."
      ]
    },
    {
      "cell_type": "code",
      "execution_count": 20,
      "metadata": {
        "colab": {
          "base_uri": "https://localhost:8080/"
        },
        "id": "cYtG2JZNjiSz",
        "outputId": "84e54b66-cb68-4c42-b7c7-4c43bd806dff"
      },
      "outputs": [
        {
          "data": {
            "text/plain": [
              "GradeHallucinations(binary_score='yes')"
            ]
          },
          "execution_count": 20,
          "metadata": {},
          "output_type": "execute_result"
        }
      ],
      "source": [
        "# Data model\n",
        "class GradeHallucinations(BaseModel):\n",
        "    \"\"\"Binary score for hallucination present in generation answer.\"\"\"\n",
        "\n",
        "    binary_score: str = Field(\n",
        "        description=\"Answer is grounded in the facts, 'yes' or 'no'\"\n",
        "    )\n",
        "\n",
        "\n",
        "# LLM with function call\n",
        "llm = ChatOpenAI(model=\"gpt-4o\")\n",
        "structured_llm_grader = llm.with_structured_output(GradeHallucinations)\n",
        "\n",
        "# Prompt\n",
        "system = \"\"\"You are a grader assessing whether an LLM generation is grounded in / supported by a set of retrieved facts. \\n\n",
        "     Give a binary score 'yes' or 'no'. 'Yes' means that the answer is grounded in / supported by the set of facts.\"\"\"\n",
        "hallucination_prompt = ChatPromptTemplate.from_messages(\n",
        "    [\n",
        "        (\"system\", system),\n",
        "        (\"human\", \"Set of facts: \\n\\n {documents} \\n\\n LLM generation: {generation}\"),\n",
        "    ]\n",
        ")\n",
        "\n",
        "hallucination_grader = hallucination_prompt | structured_llm_grader\n",
        "hallucination_grader.invoke({\"documents\": docs, \"generation\": generation})"
      ]
    },
    {
      "cell_type": "markdown",
      "metadata": {},
      "source": [
        "### Answer Grader"
      ]
    },
    {
      "cell_type": "markdown",
      "metadata": {
        "id": "e_FGC31CR0nc"
      },
      "source": [
        "**Explanation of Code:**\n",
        "\n",
        "1. **Defining a Data Model:** The `GradeAnswer` class, which inherits from `BaseModel`, defines a data model to represent a binary score indicating if an answer sufficiently addresses a question. The field `binary_score` accepts a string value of `'yes'` or `'no'`.\n",
        "\n",
        "2. **Setting Up the LLM (Language Model):** An instance of `ChatOpenAI` called `llm` is initialized using the model `gpt-4o`.\n",
        "\n",
        "3. **Structured Output for Grading:** The `structured_llm_grader` variable wraps the `llm` instance with the `GradeAnswer` model using `with_structured_output`. This setup structures the output to only contain `'yes'` or `'no'`, based on whether the answer addresses the question.\n",
        "\n",
        "4. **Creating a System Prompt:** The `system` string instructs the LLM to act as a grader, assessing if a given answer adequately addresses the question. It specifies a binary response format: `'yes'` if the answer resolves the question, and `'no'` otherwise.\n",
        "\n",
        "5. **Prompt Template Definition:** `answer_prompt` is defined as a `ChatPromptTemplate` that includes a `system` message and a `human` message template. The `human` message includes placeholders (`{question}` and `{generation}`) for dynamically inserting the user’s question and the generated response.\n",
        "\n",
        "6. **Combining the Prompt and Grader:** The `answer_grader` variable combines `answer_prompt` with `structured_llm_grader`, ensuring that the LLM produces structured binary output for grading purposes.\n",
        "\n",
        "7. **Invoking the Grader:** The `invoke` method is used on `answer_grader` with inputs `question` (user’s question) and `generation` (the LLM’s response). The model evaluates if `generation` addresses `question`, returning a binary grade: `'yes'` or `'no'`."
      ]
    },
    {
      "cell_type": "code",
      "execution_count": 21,
      "metadata": {
        "colab": {
          "base_uri": "https://localhost:8080/"
        },
        "id": "v0v_LAD4jiSz",
        "outputId": "ccd45984-d0c8-49ba-820d-6a84727d4ff3"
      },
      "outputs": [
        {
          "data": {
            "text/plain": [
              "GradeAnswer(binary_score='yes')"
            ]
          },
          "execution_count": 21,
          "metadata": {},
          "output_type": "execute_result"
        }
      ],
      "source": [
        "# Data model\n",
        "class GradeAnswer(BaseModel):\n",
        "    \"\"\"Binary score to assess answer addresses question.\"\"\"\n",
        "\n",
        "    binary_score: str = Field(\n",
        "        description=\"Answer addresses the question, 'yes' or 'no'\"\n",
        "    )\n",
        "\n",
        "\n",
        "# LLM with function call\n",
        "llm = ChatOpenAI(model=\"gpt-4o\")\n",
        "structured_llm_grader = llm.with_structured_output(GradeAnswer)\n",
        "\n",
        "# Prompt\n",
        "system = \"\"\"You are a grader assessing whether an answer addresses / resolves a question \\n\n",
        "     Give a binary score 'yes' or 'no'. Yes' means that the answer resolves the question.\"\"\"\n",
        "answer_prompt = ChatPromptTemplate.from_messages(\n",
        "    [\n",
        "        (\"system\", system),\n",
        "        (\"human\", \"User question: \\n\\n {question} \\n\\n LLM generation: {generation}\"),\n",
        "    ]\n",
        ")\n",
        "\n",
        "answer_grader = answer_prompt | structured_llm_grader\n",
        "answer_grader.invoke({\"question\": question, \"generation\": generation})"
      ]
    },
    {
      "cell_type": "markdown",
      "metadata": {},
      "source": [
        "### Question Re-writer"
      ]
    },
    {
      "cell_type": "markdown",
      "metadata": {
        "id": "8_yh-D-oR0nc"
      },
      "source": [
        "**Explanation of Code:**\n",
        "\n",
        "1. **Initializing the LLM (Language Model):** An instance of `ChatOpenAI` called `llm` is created using the model `gpt-4o`.\n",
        "\n",
        "2. **System Prompt Definition:** The `system` string contains instructions for the LLM, designating it as a question re-writer. The re-writer’s role is to improve an input question so it’s optimized for retrieval from a vector store, focusing on the underlying semantic intent.\n",
        "\n",
        "3. **Prompt Template Setup:** The `re_write_prompt` variable is initialized using `ChatPromptTemplate`. It combines a `system` message to define the LLM’s role and a `human` message template, which includes a placeholder (`{question}`) for dynamically inserting the initial question to be rephrased.\n",
        "\n",
        "4. **Combining Prompt with LLM:** The `question_rewriter` variable is created by chaining `re_write_prompt` with `llm` and `StrOutputParser()`. This setup means the output will be a direct string containing the rephrased question.\n",
        "\n",
        "5. **Invoking the Question Re-writer:** The `invoke` method is used on `question_rewriter`, passing in `question` (the initial user question) as input. The model processes the question and returns an improved version that’s optimized for semantic retrieval."
      ]
    },
    {
      "cell_type": "code",
      "execution_count": 22,
      "metadata": {
        "colab": {
          "base_uri": "https://localhost:8080/",
          "height": 35
        },
        "id": "R5632HU9jiS0",
        "outputId": "11e0eaad-f957-4e3b-a64e-b42faf060354"
      },
      "outputs": [
        {
          "data": {
            "application/vnd.google.colaboratory.intrinsic+json": {
              "type": "string"
            },
            "text/plain": [
              "\"What was NVIDIA's revenue in the most recent fiscal year?\""
            ]
          },
          "execution_count": 22,
          "metadata": {},
          "output_type": "execute_result"
        }
      ],
      "source": [
        "\n",
        "\n",
        "# LLM\n",
        "llm = ChatOpenAI(model=\"gpt-4o\")\n",
        "\n",
        "# Prompt\n",
        "system = \"\"\"You a question re-writer that converts an input question to a better version that is optimized \\n\n",
        "     for vectorstore retrieval. Look at the input and try to reason about the underlying semantic intent / meaning.\"\"\"\n",
        "re_write_prompt = ChatPromptTemplate.from_messages(\n",
        "    [\n",
        "        (\"system\", system),\n",
        "        (\n",
        "            \"human\",\n",
        "            \"Here is the initial question: \\n\\n {question} \\n Formulate an improved question.\",\n",
        "        ),\n",
        "    ]\n",
        ")\n",
        "\n",
        "question_rewriter = re_write_prompt | llm | StrOutputParser()\n",
        "question_rewriter.invoke({\"question\": question})"
      ]
    },
    {
      "cell_type": "markdown",
      "metadata": {},
      "source": [
        "### Search Tool"
      ]
    },
    {
      "cell_type": "markdown",
      "metadata": {
        "id": "pf1vsuU8R0nc"
      },
      "source": [
        "**Explanation of Code:**\n",
        "\n",
        "1. **Importing the TavilySearchResults Tool:** The `TavilySearchResults` class is imported from `langchain_community.tools.tavily_search`. This class provides a tool for performing web searches and retrieving search results.\n",
        "\n",
        "2. **Initializing the Web Search Tool:** An instance of `TavilySearchResults` called `web_search_tool` is created with the parameter `k=3`. This parameter specifies that only the top 3 search results should be retrieved in response to each search query.\n",
        "\n",
        "3. **Purpose of the Web Search Tool:** The `web_search_tool` enables integration of real-time web search functionality, allowing the system to access and retrieve relevant online information dynamically when needed."
      ]
    },
    {
      "cell_type": "code",
      "execution_count": 23,
      "metadata": {
        "id": "iZB0zZuAjiS0"
      },
      "outputs": [],
      "source": [
        "### Search\n",
        "\n",
        "from langchain_community.tools.tavily_search import TavilySearchResults\n",
        "\n",
        "web_search_tool = TavilySearchResults(k=3)"
      ]
    },
    {
      "cell_type": "markdown",
      "metadata": {},
      "source": [
        "## Python Code interpreter"
      ]
    },
    {
      "cell_type": "markdown",
      "metadata": {
        "id": "th3EErV9R0nc"
      },
      "source": [
        "**Explanation of Code:**\n",
        "\n",
        "1. **Imports and Environment Setup:** The code imports necessary modules for handling Python code execution (`os`, `json`, `Any`, `BaseModel`, and `Field`). It imports `CodeInterpreter` to manage Python code interpretation within a sandboxed environment, and other components like `ToolMessage` for managing messages and tool communication.\n",
        "\n",
        "2. **Defining Message Classes:** `RichToolMessage`, inheriting from `ToolMessage`, defines a structure for messages returned from the tool, including raw execution output in a dictionary format.\n",
        "\n",
        "3. **Data Model for Code Execution:** The `LangchainCodeInterpreterToolInput` class defines the input data model for Python code to execute. It has a single `code` field that describes the code string to be interpreted.\n",
        "\n",
        "4. **Defining Code Interpreter Tool:** `CodeInterpreterFunctionTool` is a class that sets up a Python code interpreter tool with a `tool_name` attribute and manages the E2B sandboxed interpreter. If the `E2B_API_KEY` is missing in the environment, it raises an exception, ensuring secure API access.\n",
        "\n",
        "5. **Code Execution and Handling:** The `call` method retrieves the code from parameters, executes it in a notebook cell, and returns a dictionary with execution results, `stdout`, `stderr`, and any errors encountered. The `langchain_call` method simplifies calling `call` by passing only a code string.\n",
        "\n",
        "6. **Tool Conversion to Langchain:** The `to_langchain_tool` method integrates the interpreter into Langchain as a `Tool`, allowing it to handle code execution and return output. `Tool` is configured to accept only Python code as input and provide results as rich data.\n",
        "\n",
        "7. **Output Formatting for Messages:** The `format_to_tool_message` static method processes the output of the code interpreter, transforming it into a structured `RichToolMessage` format, ready for the Langchain system to consume.\n",
        "\n",
        "8. **LLM Initialization and Workflow Setup:** The `ChatOpenAI` model is initialized as `llm` with `gpt-4o`. This model is incorporated into a `MessageGraph` workflow, which manages LLM-tool interactions.\n",
        "\n",
        "9. **Defining Workflow Logic:** `should_continue` checks if a function call exists in the last message. If not, it signals the end (`END`). Otherwise, it proceeds with tool execution.\n",
        "\n",
        "10. **Tool Execution Logic:** `execute_tools` runs tools based on `tool_calls` in the last message, invokes the appropriate tool, and appends the results as `RichToolMessage`s for further handling.\n",
        "\n",
        "11. **Workflow Graph Definition:** The workflow graph has nodes (`agent`, `action`) with conditional edges based on `should_continue`, creating a loop until `should_continue` signals `END`. The workflow compiles into `interpreter_app`, which orchestrates the execution and response handling.\n",
        "\n",
        "12. **Executing the Workflow:** (Commented out in the code) The final step would involve invoking the `interpreter_app` with a user command, such as `\"plot and show sinus\"`, triggering the workflow to interpret and execute the code."
      ]
    },
    {
      "cell_type": "code",
      "execution_count": 24,
      "metadata": {
        "id": "vc8A-mTojiS0"
      },
      "outputs": [],
      "source": [
        "# Python Code interpreter\n",
        "\n",
        "import os\n",
        "import json\n",
        "\n",
        "from typing import Any\n",
        "import base64\n",
        "from langchain_core.tools import Tool\n",
        "from pydantic.v1 import BaseModel, Field\n",
        "from e2b_code_interpreter import Sandbox\n",
        "from langchain_core.messages import ToolMessage\n",
        "\n",
        "class RichToolMessage(ToolMessage):\n",
        "    raw_output: dict\n",
        "\n",
        "\n",
        "class LangchainCodeInterpreterToolInput(BaseModel):\n",
        "    code: str = Field(description=\"Python code to execute.\")\n",
        "\n",
        "\n",
        "class CodeInterpreterFunctionTool:\n",
        "    tool_name: str = \"code_interpreter\"\n",
        "\n",
        "    def __init__(self):\n",
        "        # Instantiate the E2B sandbox - this is a long lived object\n",
        "        # that's pinging E2B cloud to keep the sandbox alive.\n",
        "        if \"E2B_API_KEY\" not in os.environ:\n",
        "            raise Exception(\n",
        "                \"Code Interpreter tool called while E2B_API_KEY environment variable is not set. Please get your E2B api key here https://e2b.dev/docs and set the E2B_API_KEY environment variable.\"\n",
        "            )\n",
        "        # self.code_interpreter = CodeInterpreter()\n",
        "        self.sbx = Sandbox()\n",
        "\n",
        "    # def close(self):\n",
        "    #     # self.code_interpreter.close()\n",
        "    #     self.sbx.close()\n",
        "\n",
        "    def call(self, parameters: dict, **kwargs: Any):\n",
        "        code = parameters.get(\"code\", \"\")\n",
        "        print(f\"***Code Interpreting...\\n{code}\\n====\")\n",
        "        path_tracker.append(f\"***Code Interpreting...\\n{code}\\n====\")\n",
        "\n",
        "        # try:\n",
        "        #     execution = self.code_interpreter.notebook.exec_cell(code)\n",
        "        # except Exception as e:\n",
        "        #     # If execution fails, try reinitializing the interpreter\n",
        "        #     self.close()\n",
        "        #     self.code_interpreter = CodeInterpreter()\n",
        "        #     execution = self.code_interpreter.notebook.exec_cell(code)\n",
        "\n",
        "        # if self.code_interpreter:\n",
        "        #     self.close()\n",
        "        # self.code_interpreter = CodeInterpreter()\n",
        "        # execution = self.code_interpreter.notebook.exec_cell(code)\n",
        "\n",
        "        # if self.sbx:\n",
        "        #     self.close()\n",
        "        self.sbx = Sandbox()\n",
        "        execution = self.sbx.run_code(code)\n",
        "\n",
        "        # content = self.sbx.files.read(\"output_graph.png\")\n",
        "        # print(content)\n",
        "        # with open(\"output_graph.png\", \"wb\") as f:\n",
        "        #     f.write(content)\n",
        "\n",
        "        first_result = execution.results[0]\n",
        "        if first_result.png:\n",
        "            with open(\"output_graph.png\", \"wb\") as f:\n",
        "                f.write(base64.b64decode(first_result.png))\n",
        "        return {\n",
        "            \"results\": execution.results,\n",
        "            \"stdout\": execution.logs.stdout,\n",
        "            \"stderr\": execution.logs.stderr,\n",
        "            \"error\": execution.error,\n",
        "        }\n",
        "\n",
        "    # langchain does not return a dict as a parameter, only a code string\n",
        "    def langchain_call(self, code: str):\n",
        "        return self.call({\"code\": code})\n",
        "\n",
        "    def to_langchain_tool(self) -> Tool:\n",
        "        tool = Tool(\n",
        "            name=self.tool_name,\n",
        "            description=\"Execute python code in a Jupyter notebook cell and returns any rich data (eg charts), stdout, stderr, and error.\",\n",
        "            func=self.langchain_call,\n",
        "        )\n",
        "        tool.args_schema = LangchainCodeInterpreterToolInput\n",
        "        return tool\n",
        "\n",
        "    @staticmethod\n",
        "    def format_to_tool_message(\n",
        "        tool_call_id: str,\n",
        "        output: dict,\n",
        "    ) -> RichToolMessage:\n",
        "        \"\"\"\n",
        "        Format the output of the CodeInterpreter tool to be returned as a RichToolMessage.\n",
        "        \"\"\"\n",
        "\n",
        "        # TODO: Add info about the results for the LLM\n",
        "        content = json.dumps(\n",
        "            {k: v for k, v in output.items() if k not in (\"results\")}, indent=2\n",
        "        )\n",
        "\n",
        "        return RichToolMessage(\n",
        "            content=content,\n",
        "            raw_output=output,\n",
        "            tool_call_id=tool_call_id,\n",
        "        )\n",
        "\n",
        "from typing import List\n",
        "from langchain_openai import ChatOpenAI\n",
        "from langgraph.graph import END, MessageGraph\n",
        "\n",
        "\n",
        "# Define the function that determines whether to continue or not\n",
        "def should_continue(messages) -> str:\n",
        "    last_message = messages[-1]\n",
        "    # If there is no function call, then we finish\n",
        "    if not last_message.tool_calls:\n",
        "        return END\n",
        "    else:\n",
        "        return \"action\"\n",
        "\n",
        "\n",
        "# Handle tools execution\n",
        "def execute_tools(messages, tool_map) -> List[RichToolMessage]:\n",
        "    tool_messages = []\n",
        "    for tool_call in messages[-1].tool_calls:\n",
        "        tool = tool_map[tool_call[\"name\"]]\n",
        "        if tool_call[\"name\"] == CodeInterpreterFunctionTool.tool_name:\n",
        "            output = tool.invoke(tool_call[\"args\"])\n",
        "            message = CodeInterpreterFunctionTool.format_to_tool_message(\n",
        "                tool_call[\"id\"],\n",
        "                output,\n",
        "            )\n",
        "            tool_messages.append(message)\n",
        "        else:\n",
        "            content = tool.invoke(tool_call[\"args\"])\n",
        "            tool_messages.append(RichToolMessage(content, tool_call_id=tool_call[\"id\"]))\n",
        "    return tool_messages\n",
        "\n",
        "# 1. Initialize the LLM\n",
        "llm = ChatOpenAI(model=\"gpt-4o\")\n",
        "\n",
        "# 2. Initialize the code interpreter tool\n",
        "code_interpreter = CodeInterpreterFunctionTool()\n",
        "code_interpreter_tool = code_interpreter.to_langchain_tool()\n",
        "tools = [code_interpreter_tool]\n",
        "tool_map = {tool.name: tool for tool in tools}\n",
        "\n",
        "# 3. Define the graph\n",
        "workflow = MessageGraph()\n",
        "workflow.add_node(\"agent\", llm.bind_tools(tools))\n",
        "workflow.add_node(\"action\", lambda x: execute_tools(x, tool_map))\n",
        "\n",
        "# Conditional agent -> action OR agent -> END\n",
        "workflow.add_conditional_edges(\n",
        "    \"agent\",\n",
        "    should_continue,\n",
        ")\n",
        "# Always transition `action` -> `agent`\n",
        "workflow.add_edge(\"action\", \"agent\")\n",
        "\n",
        "workflow.set_entry_point(\"agent\")\n",
        "\n",
        "interpreter_app = workflow.compile()\n",
        "\n",
        "# # 4. Invoke the app\n",
        "# result = interpreter_app.invoke([(\"human\", \"plot and show sinus\")])\n",
        "\n",
        "\n"
      ]
    },
    {
      "cell_type": "markdown",
      "metadata": {},
      "source": [
        "## Define the Graph"
      ]
    },
    {
      "cell_type": "markdown",
      "metadata": {},
      "source": [
        "### Graph State"
      ]
    },
    {
      "cell_type": "markdown",
      "metadata": {
        "id": "rTQqPzuhR0nd"
      },
      "source": [
        "**Explanation of Code:**\n",
        "\n",
        "1. **Importing Required Types:** The code imports `List` from Python’s `typing` module and `TypedDict` from `typing_extensions`. `TypedDict` is used to create a dictionary-like data structure with specific key-value pairs and type annotations.\n",
        "\n",
        "2. **Defining `GraphState` Class:** `GraphState` is a subclass of `TypedDict`, designed to represent the state of a graph during processing. Each attribute in `GraphState` has an explicitly defined type.\n",
        "\n",
        "3. **Attributes of `GraphState`:**\n",
        "   - **`question`:** A string representing the user’s question that the system is working with.\n",
        "   - **`generation`:** A string holding the generated answer or output from the language model (LLM).\n",
        "   - **`documents`:** A list of strings, where each element represents a document related to the `question` or `generation`.\n",
        "   - **`last_used_tool`:** A string that stores the name of the last tool used, which could be `'search'` or `'vectorstore'`.\n",
        "\n",
        "4. **Purpose of `GraphState`:** This class provides a structured way to manage and track essential elements of the graph’s state, making it easier to access and manipulate information during processing and debugging."
      ]
    },
    {
      "cell_type": "code",
      "execution_count": 25,
      "metadata": {
        "id": "kTHNMy_vjiS1"
      },
      "outputs": [],
      "source": [
        "from typing import List\n",
        "\n",
        "from typing_extensions import TypedDict\n",
        "\n",
        "\n",
        "class GraphState(TypedDict):\n",
        "    \"\"\"\n",
        "    Represents the state of our graph.\n",
        "\n",
        "    Attributes:\n",
        "        question: question\n",
        "        generation: LLM generation\n",
        "        documents: list of documents\n",
        "        last_used_tool: search or vectorstore\n",
        "    \"\"\"\n",
        "\n",
        "    question: str\n",
        "    generation: str\n",
        "    documents: List[str]\n",
        "    last_used_tool: str"
      ]
    },
    {
      "cell_type": "code",
      "execution_count": 26,
      "metadata": {
        "id": "wS74DltqR0nd"
      },
      "outputs": [],
      "source": [
        "def return_no_first_time(input_value):\n",
        "    \"\"\"\n",
        "    Returns 'no' on first call and returns input value on subsequent calls.\n",
        "\n",
        "    Args:\n",
        "        input_value: Any input value\n",
        "\n",
        "    Returns:\n",
        "        str: 'no' on first call, input_value afterwards\n",
        "    \"\"\"\n",
        "    if not hasattr(return_no_first_time, 'called'):\n",
        "        return_no_first_time.called = True\n",
        "        return \"no\"\n",
        "    return input_value"
      ]
    },
    {
      "cell_type": "markdown",
      "metadata": {},
      "source": [
        "### Graph Functions"
      ]
    },
    {
      "cell_type": "markdown",
      "metadata": {
        "id": "3DO1bvMZR0nd"
      },
      "source": [
        "**Explanation of Code:**\n",
        "\n",
        "1. **`display_results`:** This function displays the results from an interpreter's output by iterating through each `message` in `result` and displaying the content if `raw_output[\"results\"]` is present.\n",
        "\n",
        "2. **`create_graph`:** This function generates graphs based on the `generation` data from `state`. It sends a plotting command to `interpreter_app`, closes the code interpreter, and displays the results.\n",
        "\n",
        "3. **`redirect_to_last_used_tool`:** Redirects to the last tool used (`search` or `vectorstore`) based on the `last_used_tool` value in `state`.\n",
        "\n",
        "4. **`retrieve`:** Retrieves documents relevant to the `question` in `state` using a retriever, updating `state` with retrieved documents and setting `last_used_tool` to `\"vectorstore\"`.\n",
        "\n",
        "5. **`generate`:** Generates an answer using retrieved documents by invoking a Retrieval-Augmented Generation (RAG) chain, which combines retrieved context with `question` to create a relevant response.\n",
        "\n",
        "6. **`grade_documents`:** Filters documents based on relevance to `question`. It invokes `retrieval_grader` for each document, keeping only those graded as relevant.\n",
        "\n",
        "7. **`reroute_question`:** Acts as a placeholder function to potentially modify the question routing without changing `state`.\n",
        "\n",
        "8. **`transform_query`:** Improves the original `question` for better retrieval performance using `question_rewriter`, updating `state` with the new query.\n",
        "\n",
        "9. **`web_search`:** Executes a web search with the improved `question` and appends results as a `Document` object to `state`.\n",
        "\n",
        "### Edge Functions\n",
        "\n",
        "10. **`route_question`:** Routes `question` to either `web_search` or `vectorstore` based on `question_router`'s analysis of the question’s context.\n",
        "\n",
        "11. **`decide_to_generate`:** Decides whether to proceed with answer generation or reformulate the question. If relevant documents are available, it returns `\"generate\"`; otherwise, it triggers `\"transform_query\"`.\n",
        "\n",
        "12. **`grade_generation_v_documents_and_question`:** Validates if the generated answer is grounded in the documents and answers the question. It uses `hallucination_grader` to detect any hallucination in the answer. If the answer is grounded and relevant to the question, the function returns `\"useful\"`, otherwise it returns `\"not useful\"` or `\"not supported\"`."
      ]
    },
    {
      "cell_type": "code",
      "execution_count": 27,
      "metadata": {
        "id": "4p8-fbvnjiS1"
      },
      "outputs": [],
      "source": [
        "from langchain.schema import Document\n",
        "\n",
        "def display_results(result):\n",
        "    for message in result:\n",
        "        if hasattr(message, 'raw_output'):\n",
        "            if message.raw_output[\"results\"]:\n",
        "                rs = message.raw_output[\"results\"]\n",
        "                for r in rs:\n",
        "                    display(r)\n",
        "\n",
        "\n",
        "def create_graph(state):\n",
        "    generation = state[\"generation\"]\n",
        "    print(\"---GENERATE GRAPHS---\")\n",
        "    print(generation)\n",
        "    path_tracker.append(f\"***GENERATE GRAPHS...\\n{generation}\\n====\")\n",
        "\n",
        "    result = interpreter_app.invoke([(\"human\", \"Plot the following data: \\n\\n\" + generation)])\n",
        "    # code_interpreter.close()\n",
        "    display_results(result)\n",
        "    print(\"---GRAPHS GENERATED---\")\n",
        "    path_tracker.append(\"---GRAPHS GENERATED---\")\n",
        "    return {\"generation\": \"graphs generated\"}\n",
        "\n",
        "\n",
        "def retrieve(state):\n",
        "    \"\"\"\n",
        "    Retrieve documents\n",
        "\n",
        "    Args:\n",
        "        state (dict): The current graph state\n",
        "\n",
        "    Returns:\n",
        "        state (dict): New key added to state, documents, that contains retrieved documents\n",
        "    \"\"\"\n",
        "    print(\"---RETRIEVE---\")\n",
        "    path_tracker.append(\"---RETRIEVE---\")\n",
        "\n",
        "    question = state[\"question\"]\n",
        "\n",
        "    # Retrieval\n",
        "    documents = retriever.invoke(question)\n",
        "    return {\"documents\": documents, \"question\": question, \"last_used_tool\": \"vectorstore\"}\n",
        "\n",
        "\n",
        "def generate(state):\n",
        "    \"\"\"\n",
        "    Generate answer\n",
        "\n",
        "    Args:\n",
        "        state (dict): The current graph state\n",
        "\n",
        "    Returns:\n",
        "        state (dict): New key added to state, generation, that contains LLM generation\n",
        "    \"\"\"\n",
        "    print(\"---GENERATE---\")\n",
        "    path_tracker.append(\"---GENERATE---\")\n",
        "    question = state[\"question\"]\n",
        "    documents = state[\"documents\"]\n",
        "\n",
        "    # RAG generation\n",
        "    generation = rag_chain.invoke({\"context\": documents, \"question\": question})\n",
        "    return {\"documents\": documents, \"question\": question, \"generation\": generation}\n",
        "\n",
        "\n",
        "def grade_documents(state):\n",
        "    \"\"\"\n",
        "    Determines whether the retrieved documents are relevant to the question.\n",
        "\n",
        "    Args:\n",
        "        state (dict): The current graph state\n",
        "\n",
        "    Returns:\n",
        "        state (dict): Updates documents key with only filtered relevant documents\n",
        "    \"\"\"\n",
        "\n",
        "    print(\"---CHECK DOCUMENT RELEVANCE TO QUESTION---\")\n",
        "    path_tracker.append(\"---CHECK DOCUMENT RELEVANCE TO QUESTION---\")\n",
        "    question = state[\"question\"]\n",
        "    documents = state[\"documents\"]\n",
        "\n",
        "    # Score each doc\n",
        "    filtered_docs = []\n",
        "    for d in documents:\n",
        "        score = retrieval_grader.invoke(\n",
        "            {\"question\": question, \"document\": d.page_content}\n",
        "        )\n",
        "        grade = score.binary_score\n",
        "        if grade == \"yes\":\n",
        "            print(\"---GRADE: DOCUMENT RELEVANT---\")\n",
        "            path_tracker.append(\"---GRADE: DOCUMENT RELEVANT---\")\n",
        "            filtered_docs.append(d)\n",
        "        else:\n",
        "            print(\"---GRADE: DOCUMENT NOT RELEVANT---\")\n",
        "            path_tracker.append(\"---GRADE: DOCUMENT NOT RELEVANT---\")\n",
        "            continue\n",
        "    return {\"documents\": filtered_docs, \"question\": question}\n",
        "\n",
        "def reroute_question(state):\n",
        "    print(\"---REROUTE QUESTION---\")\n",
        "    path_tracker.append(\"---REROUTE QUESTION---\")\n",
        "    last_used_tool = state[\"last_used_tool\"]\n",
        "    print(\"last used tool: \", last_used_tool)\n",
        "    print(\"now redirecting to: \", \"web_search\")\n",
        "    path_tracker.append(\"last used tool: \", last_used_tool)\n",
        "    path_tracker.append(\"now redirecting to: \", \"web_search\")\n",
        "    return state\n",
        "\n",
        "\n",
        "def transform_query(state):\n",
        "    \"\"\"\n",
        "    Transform the query to produce a better question.\n",
        "\n",
        "    Args:\n",
        "        state (dict): The current graph state\n",
        "\n",
        "    Returns:\n",
        "        state (dict): Updates question key with a re-phrased question\n",
        "    \"\"\"\n",
        "\n",
        "    print(\"---TRANSFORM QUERY---\")\n",
        "    path_tracker.append(\"---TRANSFORM QUERY---\")\n",
        "    question = state[\"question\"]\n",
        "    documents = state[\"documents\"]\n",
        "\n",
        "    # Re-write question\n",
        "    better_question = question_rewriter.invoke({\"question\": question})\n",
        "    return {\"documents\": documents, \"question\": better_question}\n",
        "\n",
        "\n",
        "def web_search(state):\n",
        "    \"\"\"\n",
        "    Web search based on the re-phrased question.\n",
        "\n",
        "    Args:\n",
        "        state (dict): The current graph state\n",
        "\n",
        "    Returns:\n",
        "        state (dict): Updates documents key with appended web results\n",
        "    \"\"\"\n",
        "\n",
        "    print(\"---WEB SEARCH---\")\n",
        "    path_tracker.append(\"---WEB SEARCH---\")\n",
        "    question = state[\"question\"]\n",
        "\n",
        "    # Web search\n",
        "    docs = web_search_tool.invoke({\"query\": question})\n",
        "    web_results = \"\\n\".join([d[\"content\"] for d in docs])\n",
        "    web_results = Document(page_content=web_results)\n",
        "\n",
        "    return {\"documents\": web_results, \"question\": question, \"last_used_tool\": \"web_search\"}\n",
        "\n",
        "\n",
        "### Edges ###\n",
        "\n",
        "\n",
        "def route_question(state):\n",
        "    \"\"\"\n",
        "    Route question to web search or RAG.\n",
        "\n",
        "    Args:\n",
        "        state (dict): The current graph state\n",
        "\n",
        "    Returns:\n",
        "        str: Next node to call\n",
        "    \"\"\"\n",
        "\n",
        "    print(\"---ROUTE QUESTION---\")\n",
        "    path_tracker.append(\"---ROUTE QUESTION---\")\n",
        "    question = state[\"question\"]\n",
        "    source = question_router.invoke({\"question\": question})\n",
        "    if source.datasource == \"web_search\":\n",
        "        print(\"---ROUTE QUESTION TO WEB SEARCH---\")\n",
        "        path_tracker.append(\"---ROUTE QUESTION TO WEB SEARCH---\")\n",
        "        return \"web_search\"\n",
        "    elif source.datasource == \"vectorstore\":\n",
        "        print(\"---ROUTE QUESTION TO RAG---\")\n",
        "        path_tracker.append(\"---ROUTE QUESTION TO RAG---\")\n",
        "        return \"vectorstore\"\n",
        "\n",
        "\n",
        "def decide_to_generate(state):\n",
        "    \"\"\"\n",
        "    Determines whether to generate an answer, or re-generate a question.\n",
        "\n",
        "    Args:\n",
        "        state (dict): The current graph state\n",
        "\n",
        "    Returns:\n",
        "        str: Binary decision for next node to call\n",
        "    \"\"\"\n",
        "\n",
        "    print(\"---ASSESS GRADED DOCUMENTS---\")\n",
        "    path_tracker.append(\"---ASSESS GRADED DOCUMENTS---\")\n",
        "    state[\"question\"]\n",
        "    filtered_documents = state[\"documents\"]\n",
        "\n",
        "    if not filtered_documents:\n",
        "        # All documents have been filtered check_relevance\n",
        "        # We will re-generate a new query\n",
        "        print(\n",
        "            \"---DECISION: ALL DOCUMENTS ARE NOT RELEVANT TO QUESTION, TRANSFORM QUERY---\"\n",
        "        )\n",
        "        path_tracker.append(\"---DECISION: ALL DOCUMENTS ARE NOT RELEVANT TO QUESTION, TRANSFORM QUERY---\")\n",
        "        return \"transform_query\"\n",
        "    else:\n",
        "        # We have relevant documents, so generate answer\n",
        "        print(\"---DECISION: GENERATE---\")\n",
        "        path_tracker.append(\"---DECISION: GENERATE---\")\n",
        "        return \"generate\"\n",
        "\n",
        "\n",
        "def grade_generation_v_documents_and_question(state):\n",
        "    \"\"\"\n",
        "    Determines whether the generation is grounded in the document and answers question.\n",
        "\n",
        "    Args:\n",
        "        state (dict): The current graph state\n",
        "\n",
        "    Returns:\n",
        "        str: Decision for next node to call\n",
        "    \"\"\"\n",
        "\n",
        "    print(\"---CHECK HALLUCINATIONS---\")\n",
        "    path_tracker.append(\"---CHECK HALLUCINATIONS---\")\n",
        "    question = state[\"question\"]\n",
        "    documents = state[\"documents\"]\n",
        "    generation = state[\"generation\"]\n",
        "\n",
        "    score = hallucination_grader.invoke(\n",
        "        {\"documents\": documents, \"generation\": generation}\n",
        "    )\n",
        "    grade = score.binary_score\n",
        "\n",
        "    # Check hallucination\n",
        "    if grade == \"yes\":\n",
        "        print(\"---DECISION: GENERATION IS GROUNDED IN DOCUMENTS---\")\n",
        "        path_tracker.append(\"---DECISION: GENERATION IS GROUNDED IN DOCUMENTS---\")\n",
        "        # Check question-answering\n",
        "        print(\"---GRADE GENERATION vs QUESTION---\")\n",
        "        path_tracker.append(\"---GRADE GENERATION vs QUESTION---\")\n",
        "        score = answer_grader.invoke({\"question\": question, \"generation\": generation})\n",
        "        # grade = return_no_first_time(score.binary_score)\n",
        "        grade = score.binary_score\n",
        "        print(\"Answer Grade =====>> \", grade)\n",
        "        path_tracker.append(f\"Answer Grade =====>> {grade}\")\n",
        "        if grade == \"yes\":\n",
        "            print(\"---DECISION: GENERATION ADDRESSES QUESTION---\")\n",
        "            path_tracker.append(\"---DECISION: GENERATION ADDRESSES QUESTION---\")\n",
        "            return \"useful\"\n",
        "        else:\n",
        "            print(\"---DECISION: GENERATION DOES NOT ADDRESS QUESTION---\")\n",
        "            path_tracker.append(\"---DECISION: GENERATION DOES NOT ADDRESS QUESTION---\")\n",
        "            return \"not useful\"\n",
        "    else:\n",
        "        print(\"---DECISION: GENERATION IS NOT GROUNDED IN DOCUMENTS, RE-TRY---\")\n",
        "        path_tracker.append(\"---DECISION: GENERATION IS NOT GROUNDED IN DOCUMENTS, RE-TRY---\")\n",
        "        return \"not supported\""
      ]
    },
    {
      "cell_type": "markdown",
      "metadata": {},
      "source": [
        "### Add Nodes and Edges to the Graph"
      ]
    },
    {
      "cell_type": "markdown",
      "metadata": {
        "id": "pkgOMY_SR0nd"
      },
      "source": [
        "**Explanation of Code:**\n",
        "\n",
        "1. **Initializing StateGraph Workflow:**\n",
        "   - `workflow` is an instance of `StateGraph` created with the `GraphState` state model to handle node states and transitions between nodes in a defined sequence.\n",
        "\n",
        "2. **Adding Nodes to Workflow:**\n",
        "   - Each function (`web_search`, `retrieve`, `grade_documents`, `generate`, etc.) is added as a node to the workflow. These nodes represent distinct tasks in the graph, such as performing a web search, generating a response, or grading document relevance.\n",
        "\n",
        "3. **Building Graph with Conditional and Direct Edges:**\n",
        "   - **`START` to Initial Routing:** Uses `route_question` to determine if the question should go to `web_search` or `retrieve` based on the question's nature. Conditional edges send it to `\"web_search\"` or `\"retrieve\"`.\n",
        "   - **`web_search` to `generate`:** Direct edge linking `\"web_search\"` node to `\"generate\"`, implying generation will occur after web search.\n",
        "   - **`retrieve` to `grade_documents`:** Direct edge from `\"retrieve\"` to `\"grade_documents\"` where retrieved documents are checked for relevance.\n",
        "\n",
        "4. **Conditional Edges in Document Grading:**\n",
        "   - **`grade_documents` to Next Step:** `decide_to_generate` determines if the system should rephrase the question (sending it to `transform_query`) or proceed with answer generation (sending it to `generate`).\n",
        "\n",
        "5. **Transform Query and Retry:**\n",
        "   - **`transform_query` to `retrieve`:** If the question is reformulated, it re-routes to `retrieve` to find relevant documents again.\n",
        "\n",
        "6. **Generation and Quality Assessment:**\n",
        "   - **`generate` to Further Steps:** `grade_generation_v_documents_and_question` assesses if the generated answer is grounded in documents and relevant.\n",
        "   - It can re-route to:\n",
        "     - `\"generate\"` if more refinement is needed.\n",
        "     - `\"create_graph\"` if the generation is useful.\n",
        "     - `\"rerouter\"` if the generation is not useful.\n",
        "\n",
        "7. **Rerouting on Failure:**\n",
        "   - **`rerouter` Re-Routes Based on Last Tool Used:** Depending on whether `\"search\"` or `\"vectorstore\"` was last used, `redirect_to_last_used_tool` sends it back to `\"web_search\"` or `\"retrieve\"`.\n",
        "\n",
        "8. **Final Step and Graph Completion:**\n",
        "   - **`create_graph` to `END`:** When a useful generation is produced and a graph is created, it directs to the `END`, completing the workflow.\n",
        "\n",
        "9. **Compiling the Workflow:** `app = workflow.compile()` compiles the defined workflow, making it ready for execution."
      ]
    },
    {
      "cell_type": "code",
      "execution_count": 28,
      "metadata": {
        "id": "lWsO9GkKjiS2"
      },
      "outputs": [],
      "source": [
        "from langgraph.graph import END, StateGraph, START\n",
        "\n",
        "# Redefine the workflow with better organization\n",
        "workflow = StateGraph(GraphState)\n",
        "\n",
        "# 1. Add all nodes first\n",
        "workflow.add_node(\"web_search\", web_search)\n",
        "workflow.add_node(\"retrieve\", retrieve)\n",
        "workflow.add_node(\"grade_documents\", grade_documents)\n",
        "workflow.add_node(\"generate\", generate)\n",
        "workflow.add_node(\"transform_query\", transform_query)\n",
        "workflow.add_node(\"create_graph\", create_graph)\n",
        "workflow.add_node(\"rerouter\", reroute_question)\n",
        "\n",
        "# 2. Define edges in a more structured way\n",
        "# Initial routing\n",
        "workflow.add_conditional_edges(\n",
        "    START,\n",
        "    route_question,\n",
        "    {\n",
        "        \"web_search\": \"web_search\",\n",
        "        \"vectorstore\": \"retrieve\",\n",
        "    },\n",
        ")\n",
        "\n",
        "# Vector store path\n",
        "workflow.add_edge(\"retrieve\", \"grade_documents\")\n",
        "workflow.add_conditional_edges(\n",
        "    \"grade_documents\",\n",
        "    decide_to_generate,\n",
        "    {\n",
        "        \"transform_query\": \"transform_query\",\n",
        "        \"generate\": \"generate\",\n",
        "    },\n",
        ")\n",
        "workflow.add_edge(\"transform_query\", \"retrieve\")\n",
        "\n",
        "# Web search path\n",
        "workflow.add_edge(\"web_search\", \"generate\")\n",
        "\n",
        "# Generation evaluation and results\n",
        "workflow.add_conditional_edges(\n",
        "    \"generate\",\n",
        "    grade_generation_v_documents_and_question,\n",
        "    {\n",
        "        \"not supported\": \"generate\",  # Loop back for regeneration\n",
        "        \"useful\": \"create_graph\",     # Proceed to visualization\n",
        "        \"not useful\": \"rerouter\",     # Try alternative approach\n",
        "    },\n",
        ")\n",
        "\n",
        "# Final paths\n",
        "workflow.add_edge(\"rerouter\", \"web_search\")\n",
        "workflow.add_edge(\"create_graph\", END)\n",
        "\n",
        "#Compile\n",
        "app = workflow.compile()"
      ]
    },
    {
      "cell_type": "markdown",
      "metadata": {},
      "source": [
        "## Interface"
      ]
    },
    {
      "cell_type": "markdown",
      "metadata": {
        "id": "gEQIcldhR0ne"
      },
      "source": [
        "**Explanation of Code:**\n",
        "\n",
        "1. **Define `inputs` with Question:**\n",
        "   - `inputs` contains a single key-value pair where `\"question\"` is the input question, asking for the \"Revenue of NVIDIA in the past 4 years\".\n",
        "\n",
        "2. **Stream Workflow Execution:**\n",
        "   - `for output in app.stream(inputs)` iterates through the nodes in the `app` workflow, processing each node sequentially with the given `inputs`.\n",
        "\n",
        "3. **Output Node Execution Details:**\n",
        "   - For each `output` in the workflow, the code iterates over key-value pairs in the output dictionary, representing individual nodes.\n",
        "   - `pprint(f\"Node '{key}':\")` prints the name of the current node being processed.\n",
        "   - Optionally, all keys within each node's `value` dictionary can be printed by uncommenting the commented line. This would give a detailed view of the node's state, including document retrieval, grading, and generation.\n",
        "\n",
        "4. **Print Final Generation Result:**\n",
        "   - After the workflow completes, `pprint(value[\"generation\"])` outputs the final generated response based on the question about NVIDIA's revenue. This final generation would contain a summary or specific information, depending on the retrieved and graded data."
      ]
    },
    {
      "cell_type": "code",
      "execution_count": 29,
      "metadata": {
        "id": "SgsDkxySjiS2"
      },
      "outputs": [],
      "source": [
        "def test_workflow(question):\n",
        "    global path_tracker\n",
        "    path_tracker = []\n",
        "    # Run\n",
        "    inputs = {\n",
        "        \"question\": question\n",
        "    }\n",
        "    for output in app.stream(inputs):\n",
        "        for key, value in output.items():\n",
        "            # Node\n",
        "            print(f\"Node '{key}':\")\n",
        "            path_tracker.append(f\"Node '{key}':\")\n",
        "            # Optional: print full state at each node\n",
        "            # pprint.pprint(value[\"keys\"], indent=2, width=80, depth=None)\n",
        "        print(\"\\n---\\n\")\n",
        "        path_tracker.append(\"\\n---\\n\")\n",
        "    # Final generation\n",
        "    print(value[\"generation\"])\n",
        "    path_tracker.append(value[\"generation\"])\n",
        "\n",
        "    #load\n",
        "    return \"\\n\".join(path_tracker), \"output_graph.png\"  # The image is saved as output_graph.png in the create_graph function\n"
      ]
    },
    {
      "cell_type": "code",
      "execution_count": 30,
      "metadata": {
        "colab": {
          "base_uri": "https://localhost:8080/",
          "height": 1000
        },
        "id": "QOt-QpefQ2A3",
        "outputId": "391e13d5-2343-4546-fd6e-1878b73207aa"
      },
      "outputs": [
        {
          "name": "stdout",
          "output_type": "stream",
          "text": [
            "---ROUTE QUESTION---\n",
            "---ROUTE QUESTION TO RAG---\n",
            "---RETRIEVE---\n",
            "Node 'retrieve':\n",
            "\n",
            "---\n",
            "\n",
            "---CHECK DOCUMENT RELEVANCE TO QUESTION---\n",
            "---GRADE: DOCUMENT RELEVANT---\n",
            "---GRADE: DOCUMENT RELEVANT---\n",
            "---GRADE: DOCUMENT NOT RELEVANT---\n",
            "---GRADE: DOCUMENT NOT RELEVANT---\n",
            "---ASSESS GRADED DOCUMENTS---\n",
            "---DECISION: GENERATE---\n",
            "Node 'grade_documents':\n",
            "\n",
            "---\n",
            "\n",
            "---GENERATE---\n",
            "---CHECK HALLUCINATIONS---\n",
            "---DECISION: GENERATION IS GROUNDED IN DOCUMENTS---\n",
            "---GRADE GENERATION vs QUESTION---\n",
            "Answer Grade =====>>  yes\n",
            "---DECISION: GENERATION ADDRESSES QUESTION---\n",
            "Node 'generate':\n",
            "\n",
            "---\n",
            "\n",
            "---GENERATE GRAPHS---\n",
            "AMD's revenue in the past 4 years was as follows: 2019 - $6.73 billion, 2020 - $9.76 billion, 2021 - $16.43 billion, and 2022 - $23.60 billion. In 2023, AMD reported revenue of $22.68 billion, showing a slight decline from the previous year.\n",
            "***Code Interpreting...\n",
            "import matplotlib.pyplot as plt\n",
            "\n",
            "years = [2019, 2020, 2021, 2022, 2023]\n",
            "revenue = [6.73, 9.76, 16.43, 23.60, 22.68]\n",
            "\n",
            "plt.figure(figsize=(10, 6))\n",
            "plt.plot(years, revenue, marker='o', color='b', linestyle='-', linewidth=2)\n",
            "plt.title('AMD Revenue Over the Past 5 Years')\n",
            "plt.xlabel('Year')\n",
            "plt.ylabel('Revenue (in billion $)')\n",
            "plt.grid(True)\n",
            "plt.show()\n",
            "====\n"
          ]
        },
        {
          "data": {
            "image/png": "[encoded data removed]",
            "text/plain": [
              "Result(<Figure size 1000x600 with 1 Axes>)"
            ]
          },
          "metadata": {},
          "output_type": "display_data"
        },
        {
          "name": "stdout",
          "output_type": "stream",
          "text": [
            "---GRAPHS GENERATED---\n",
            "Node 'create_graph':\n",
            "\n",
            "---\n",
            "\n",
            "graphs generated\n"
          ]
        }
      ],
      "source": [
        "steps = test_workflow(\"Revenue of AMD in the past 4 years\")"
      ]
    },
    {
      "cell_type": "code",
      "execution_count": 31,
      "metadata": {
        "colab": {
          "base_uri": "https://localhost:8080/",
          "height": 1000
        },
        "id": "tbB9B6nJQ2A3",
        "outputId": "db9b8e17-4a79-4528-ea28-f33a2ea7a261"
      },
      "outputs": [
        {
          "name": "stdout",
          "output_type": "stream",
          "text": [
            "---ROUTE QUESTION---\n",
            "---ROUTE QUESTION TO RAG---\n",
            "---RETRIEVE---\n",
            "Node 'retrieve':\n",
            "\n",
            "---\n",
            "\n",
            "---CHECK DOCUMENT RELEVANCE TO QUESTION---\n",
            "---GRADE: DOCUMENT RELEVANT---\n",
            "---GRADE: DOCUMENT RELEVANT---\n",
            "---GRADE: DOCUMENT RELEVANT---\n",
            "---GRADE: DOCUMENT RELEVANT---\n",
            "---ASSESS GRADED DOCUMENTS---\n",
            "---DECISION: GENERATE---\n",
            "Node 'grade_documents':\n",
            "\n",
            "---\n",
            "\n",
            "---GENERATE---\n",
            "---CHECK HALLUCINATIONS---\n",
            "---DECISION: GENERATION IS GROUNDED IN DOCUMENTS---\n",
            "---GRADE GENERATION vs QUESTION---\n",
            "Answer Grade =====>>  yes\n",
            "---DECISION: GENERATION ADDRESSES QUESTION---\n",
            "Node 'generate':\n",
            "\n",
            "---\n",
            "\n",
            "---GENERATE GRAPHS---\n",
            "NVIDIA's revenue in the past four years has been as follows: $10.92 billion in 2020, $16.68 billion in 2021, $26.91 billion in 2022, and $26.97 billion in 2023. In fiscal year 2024, NVIDIA achieved a record revenue of $60.9 billion.\n",
            "***Code Interpreting...\n",
            "import matplotlib.pyplot as plt\n",
            "\n",
            "years = [2020, 2021, 2022, 2023, 2024]\n",
            "revenue = [10.92, 16.68, 26.91, 26.97, 60.9]\n",
            "\n",
            "plt.figure(figsize=(10, 6))\n",
            "plt.plot(years, revenue, marker='o', color='b', linestyle='-', linewidth=2)\n",
            "plt.title('NVIDIA Revenue Over the Years')\n",
            "plt.xlabel('Year')\n",
            "plt.ylabel('Revenue in Billion $')\n",
            "plt.grid(True)\n",
            "plt.show()\n",
            "====\n"
          ]
        },
        {
          "data": {
            "image/png": "[encoded data removed]",
            "text/plain": [
              "Result(<Figure size 1000x600 with 1 Axes>)"
            ]
          },
          "metadata": {},
          "output_type": "display_data"
        },
        {
          "name": "stdout",
          "output_type": "stream",
          "text": [
            "---GRAPHS GENERATED---\n",
            "Node 'create_graph':\n",
            "\n",
            "---\n",
            "\n",
            "graphs generated\n"
          ]
        }
      ],
      "source": [
        "steps = test_workflow(\"Revenue of NVIDIA in the past 4 years\")\n"
      ]
    },
    {
      "cell_type": "markdown",
      "metadata": {},
      "source": [
        "### Visualize the Graph"
      ]
    },
    {
      "cell_type": "markdown",
      "metadata": {
        "id": "l7IGPqzhR0ne"
      },
      "source": [
        "Displaying the graph using ipython display."
      ]
    },
    {
      "cell_type": "code",
      "execution_count": 32,
      "metadata": {
        "colab": {
          "base_uri": "https://localhost:8080/",
          "height": 620
        },
        "id": "K40OHT2zjiS2",
        "outputId": "f910224e-a215-45ff-a5ad-7ab7effe407b"
      },
      "outputs": [
        {
          "data": {
            "image/jpeg": "[encoded data removed]",
            "text/plain": [
              "<IPython.core.display.Image object>"
            ]
          },
          "metadata": {},
          "output_type": "display_data"
        }
      ],
      "source": [
        "from IPython.display import Image, display\n",
        "\n",
        "try:\n",
        "    display(Image(app.get_graph().draw_mermaid_png()))\n",
        "except Exception as e:\n",
        "    # This requires some extra dependencies and is optional\n",
        "    print(e)"
      ]
    },
    {
      "cell_type": "markdown",
      "metadata": {},
      "source": [
        "### Visual Interface"
      ]
    },
    {
      "cell_type": "code",
      "execution_count": 33,
      "metadata": {
        "colab": {
          "base_uri": "https://localhost:8080/",
          "height": 648
        },
        "id": "UT8cbUdLRExp",
        "outputId": "610373c9-72a7-47a0-ac77-deef36cc97fa"
      },
      "outputs": [
        {
          "name": "stdout",
          "output_type": "stream",
          "text": [
            "Running Gradio in a Colab notebook requires sharing enabled. Automatically setting `share=True` (you can turn this off by setting `share=False` in `launch()` explicitly).\n",
            "\n",
            "Colab notebook detected. To show errors in colab notebook, set debug=True in launch()\n",
            "* Running on public URL: https://3e311b2982d4602f93.gradio.live\n",
            "\n",
            "This share link expires in 72 hours. For free permanent hosting and GPU upgrades, run `gradio deploy` from the terminal in the working directory to deploy to Hugging Face Spaces (https://huggingface.co/spaces)\n"
          ]
        },
        {
          "data": {
            "text/html": [
              "<div><iframe src=\"https://3e311b2982d4602f93.gradio.live\" width=\"100%\" height=\"500\" allow=\"autoplay; camera; microphone; clipboard-read; clipboard-write;\" frameborder=\"0\" allowfullscreen></iframe></div>"
            ],
            "text/plain": [
              "<IPython.core.display.HTML object>"
            ]
          },
          "metadata": {},
          "output_type": "display_data"
        },
        {
          "data": {
            "text/plain": []
          },
          "execution_count": 33,
          "metadata": {},
          "output_type": "execute_result"
        }
      ],
      "source": [
        "import gradio as gr\n",
        "\n",
        "# Then update the Gradio interface\n",
        "with gr.Blocks() as demo:\n",
        "    prompt = gr.Textbox(label=\"Question\")\n",
        "    output = gr.Textbox(label=\"Steps\")\n",
        "    img_output = gr.Image(label=\"Generated Graph\")\n",
        "    ask_btn = gr.Button(\"Ask\")\n",
        "    ask_btn.click(\n",
        "        fn=test_workflow,\n",
        "        inputs=prompt,\n",
        "        outputs=[output, img_output]\n",
        "    )\n",
        "demo.launch()\n"
      ]
    },
    {
      "cell_type": "code",
      "execution_count": 33,
      "metadata": {
        "id": "mw1Oah74V_kY"
      },
      "outputs": [],
      "source": []
    }
  ],
  "metadata": {
    "colab": {
      "provenance": []
    },
    "kernelspec": {
      "display_name": ".venv",
      "language": "python",
      "name": "python3"
    },
    "language_info": {
      "codemirror_mode": {
        "name": "ipython",
        "version": 3
      },
      "file_extension": ".py",
      "mimetype": "text/x-python",
      "name": "python",
      "nbconvert_exporter": "python",
      "pygments_lexer": "ipython3",
      "version": "3.9.18"
    }
  },
  "nbformat": 4,
  "nbformat_minor": 0
}
